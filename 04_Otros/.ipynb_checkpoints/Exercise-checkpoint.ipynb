{
 "cells": [
  {
   "cell_type": "markdown",
   "id": "9082e075-2cb5-4d8a-93c9-6e7ee7cd3ae4",
   "metadata": {},
   "source": [
    "Exercises from interview"
   ]
  },
  {
   "cell_type": "code",
   "execution_count": null,
   "id": "cfd9886e-5be0-4aa3-b3dd-14cf0728f63f",
   "metadata": {},
   "outputs": [],
   "source": [
    "from collections import Counter\n",
    "\n",
    "arr = [1,2,2,7,4,4,4,6,8,1,54,16]\n",
    "print(f\"Initial list: \\n{arr}\\n\")\n",
    "\n",
    "# GO!\n",
    "arr = sorted(arr) \n",
    "lenght = len(arr)\n",
    "\n",
    "# fill the list with the possible numbers in the exact position\n",
    "to_compare = [0] * lenght\n",
    "for i in range(1, lenght+1):\n",
    "    if i in arr:\n",
    "        to_compare[i-1] = i\n",
    "print(f\"To compare list: \\n{to_compare}\\n\")\n",
    "\n",
    "# get the duplicates that aren't in to_compare list and the values bigger than lenght to consider all\n",
    "duplicates = {key:value-1 for key, value in Counter(arr).items() if value>1}\n",
    "list_extra=[]\n",
    "for key, value in duplicates.items():\n",
    "    list_extra = [key] * value + list_extra\n",
    "\n",
    "greater_than_lenght = [value for value in arr if value > lenght]\n",
    "list_extra.extend(greater_than_lenght)\n",
    "list_extra = sorted(list_extra)\n",
    "\n",
    "print(f\"Extra values to fill: \\n{list_extra}\\n\")\n",
    "\n",
    "#get the positions to fill and do it\n",
    "pos_temp = []\n",
    "for id, val in enumerate(to_compare):\n",
    "    if val == 0:\n",
    "        pos_temp = pos_temp + [id]\n",
    "\n",
    "for id, val in enumerate(list_extra):\n",
    "    to_compare[pos_temp[id]] = val\n",
    "\n",
    "print(f\"Final to compare list: \\n{to_compare}\\n\")\n",
    "\n",
    "# create a list to count permutations\n",
    "n_list = list(range(1,lenght+1))\n",
    "cont = 0\n",
    "for i in range(0,lenght):\n",
    "    cont = cont + abs(to_compare[i] - n_list[i])\n",
    "\n",
    "print(f\"Total permutations: {cont}\")"
   ]
  },
  {
   "cell_type": "code",
   "execution_count": null,
   "id": "5833b2a4-b37e-4afc-8795-df44fffbcbe8",
   "metadata": {},
   "outputs": [],
   "source": [
    "def min_permutations(nums):\n",
    "    n = len(nums)\n",
    "    nums.sort()\n",
    "    dp = []\n",
    "    for _ in range(n + 1):\n",
    "        row = [float('inf')] * (n + 1)\n",
    "        dp.append(row)\n",
    "\n",
    "    dp[0][0] = 0\n",
    "\n",
    "    for i in range(1, n + 1):\n",
    "        for j in range(n + 1):\n",
    "            print(f\"Entrada {i,j}\")\n",
    "            dp[i][j] = min(dp[i][j], dp[i - 1][j] + abs(nums[i - 1] - (j - 1)))\n",
    "            print(dp[i - 1][j] + abs(nums[i - 1] - (j - 1)))\n",
    "            if j > 0:\n",
    "                dp[i][j] = min(dp[i][j], dp[i - 1][j - 1] + abs(nums[i - 1] - j))\n",
    "                print(dp[i - 1][j - 1] + abs(nums[i - 1] - j))\n",
    "\n",
    "        print(f\"\\n{dp}\")\n",
    "\n",
    "    return min(dp[n])\n",
    "\n",
    "# Ejemplo de uso\n",
    "nums = [1,3,2,5]\n",
    "result = min_permutations(nums)\n",
    "print(\"Número mínimo de permutaciones necesarias:\", result)"
   ]
  },
  {
   "cell_type": "code",
   "execution_count": null,
   "id": "d7179fa7-3982-43c0-ad46-fdcc2ed7a250",
   "metadata": {},
   "outputs": [],
   "source": []
  }
 ],
 "metadata": {
  "kernelspec": {
   "display_name": "Python 3 (ipykernel)",
   "language": "python",
   "name": "python3"
  },
  "language_info": {
   "codemirror_mode": {
    "name": "ipython",
    "version": 3
   },
   "file_extension": ".py",
   "mimetype": "text/x-python",
   "name": "python",
   "nbconvert_exporter": "python",
   "pygments_lexer": "ipython3",
   "version": "3.9.7"
  }
 },
 "nbformat": 4,
 "nbformat_minor": 5
}
