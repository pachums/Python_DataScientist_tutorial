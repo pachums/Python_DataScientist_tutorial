{
 "cells": [
  {
   "cell_type": "markdown",
   "metadata": {},
   "source": [
    "# Sesión 6: Breve introducción a Machine Learning con Scikit-learn\n"
   ]
  },
  {
   "cell_type": "markdown",
   "metadata": {},
   "source": [
    "\n",
    "Referencias\n",
    "\n",
    "[Artificial intelligence MIT Course](https://www.youtube.com/watch?v=_PwhiWxHK8o)\n",
    "\n",
    "[Kaggle - Elie Kawerk Glass Classification](https://www.kaggle.com/eliekawerk/glass-type-classification-with-machine-learning)\n",
    "\n",
    "[Random Forest](https://towardsdatascience.com/random-forest-3a55c3aca46d)\n",
    "Data\n",
    "\n",
    "[UCI ML Repository - Glass](https://archive.ics.uci.edu/ml/datasets/Glass+Identification)\n"
   ]
  },
  {
   "cell_type": "markdown",
   "metadata": {},
   "source": [
    "## Nociones de Machine Learning \n",
    "\n",
    "ML\n",
    "Supervisado / No supervisado\n",
    "Train/Test\n",
    "\n",
    "Cross Validation\n"
   ]
  },
  {
   "cell_type": "markdown",
   "metadata": {},
   "source": [
    "Machine Learning (ML) es un campo científico que mezcla diversas disciplicas que incluyen, entre otras, la ciencia de computación, estadística, ciencia cognitiva, ingenieria, teoría de optimización.\n",
    "\n",
    "Hay numerosas aplicaciones de ML, pero destaca su uso en minería de datos. \n",
    "\n",
    "ML se divide en dos amplias categorias que son el \n",
    " - **aprendizaje no supervisado** que consiste en técnicas que no hacen uso de la variable a predecir, o de la que se quiere obtener información.\n",
    " \n",
    " \n",
    " - **aprendizaje supervisado** que consiste en técnicas que hacen uso de la variable/s a predecir a la hora de *entrenar* los algoritmos. Unos datos se útilizan para entrenar, y otros para validar. Con esto se intenta evitar el ampliamente conocido efecto de *overfiting*.\n"
   ]
  },
  {
   "cell_type": "code",
   "execution_count": 189,
   "metadata": {},
   "outputs": [],
   "source": [
    "import pandas as pd\n",
    "import numpy as np\n",
    "import matplotlib.pyplot as plt\n",
    "import itertools\n",
    "import collections\n",
    "from time import time\n",
    "\n",
    "\n",
    "# SKLEARN\n",
    "import sklearn\n",
    "# > Preprocesado\n",
    "from sklearn.preprocessing import StandardScaler\n",
    "# > Reducción de dimensionalidad por componentes principales\n",
    "from sklearn.decomposition import PCA\n",
    "# > Clustering\n",
    "from sklearn.cluster import KMeans\n",
    "\n",
    "# > Clasificadores\n",
    "from sklearn.svm import SVC\n",
    "from sklearn.neighbors import KNeighborsClassifier\n",
    "from sklearn.tree import DecisionTreeClassifier\n",
    "from sklearn.ensemble import RandomForestClassifier\n",
    "\n",
    "# > Selección de modelo\n",
    "from sklearn.model_selection import train_test_split, KFold , StratifiedKFold,\\\n",
    "                                     cross_val_score, GridSearchCV, \\\n",
    "                                     learning_curve, validation_curve\n",
    "# > Definir metricas para evaluar el desempeño de clasificadores\n",
    "from sklearn.metrics import make_scorer\n",
    "# >> Tipicos scorers\n",
    "from sklearn.metrics import accuracy_score, recall_score, precision_score "
   ]
  },
  {
   "cell_type": "markdown",
   "metadata": {},
   "source": [
    "## Scikit-learn"
   ]
  },
  {
   "cell_type": "markdown",
   "metadata": {},
   "source": [
    "### Comprobar la instalación"
   ]
  },
  {
   "cell_type": "markdown",
   "metadata": {},
   "source": [
    "Comprobamos la versión de sklearn, debe ser 0.23.2 o superior."
   ]
  },
  {
   "cell_type": "code",
   "execution_count": 49,
   "metadata": {},
   "outputs": [
    {
     "name": "stdout",
     "output_type": "stream",
     "text": [
      "0.23.2\n"
     ]
    }
   ],
   "source": [
    "print(sklearn.__version__)"
   ]
  },
  {
   "cell_type": "code",
   "execution_count": 50,
   "metadata": {},
   "outputs": [],
   "source": [
    "#pip install scikit-learn --upgrade\n",
    "# Y reinicia el Kernel"
   ]
  },
  {
   "cell_type": "markdown",
   "metadata": {},
   "source": [
    "### Aprendizaje no supervisado"
   ]
  },
  {
   "cell_type": "code",
   "execution_count": 51,
   "metadata": {},
   "outputs": [],
   "source": [
    "nombres_columnas = ['Id', 'RI', 'Na', 'Mg','Al','Si','K','Ca','Ba','Fe','Type']\n",
    "                \n",
    "glass_type_dict = {1: 'building windows, float processed',\n",
    "                   2: 'building windows, non-float processed',\n",
    "                   3: 'vehicle windows',\n",
    "                   5: 'containers',\n",
    "                   6: 'tableware',\n",
    "                   7: 'headlamps'\n",
    "                  }\n",
    "glass_code_dict = {1:'BW-FP', 2:'BW-NFP', 3:'VW', 5:'C', 6:'TW', 7:'HL'}\n",
    "glass = pd.read_csv('Data/Glass/GlassCSV.csv', names = nombres_columnas)\n"
   ]
  },
  {
   "cell_type": "code",
   "execution_count": 52,
   "metadata": {},
   "outputs": [],
   "source": [
    "glass = glass.set_index('Id')\n",
    "glass['Type_str'] = list(map(lambda x: glass_code_dict[x], glass['Type']))"
   ]
  },
  {
   "cell_type": "code",
   "execution_count": 53,
   "metadata": {},
   "outputs": [],
   "source": [
    "columns_sorted = sorted(glass.columns)\n",
    "input_columns = glass.drop(['Type', 'Type_str'], axis=1).columns.to_list()"
   ]
  },
  {
   "cell_type": "code",
   "execution_count": 54,
   "metadata": {},
   "outputs": [
    {
     "data": {
      "text/html": [
       "<div>\n",
       "<style scoped>\n",
       "    .dataframe tbody tr th:only-of-type {\n",
       "        vertical-align: middle;\n",
       "    }\n",
       "\n",
       "    .dataframe tbody tr th {\n",
       "        vertical-align: top;\n",
       "    }\n",
       "\n",
       "    .dataframe thead th {\n",
       "        text-align: right;\n",
       "    }\n",
       "</style>\n",
       "<table border=\"1\" class=\"dataframe\">\n",
       "  <thead>\n",
       "    <tr style=\"text-align: right;\">\n",
       "      <th></th>\n",
       "      <th>RI</th>\n",
       "      <th>Na</th>\n",
       "      <th>Mg</th>\n",
       "      <th>Al</th>\n",
       "      <th>Si</th>\n",
       "      <th>K</th>\n",
       "      <th>Ca</th>\n",
       "      <th>Ba</th>\n",
       "      <th>Fe</th>\n",
       "      <th>Type</th>\n",
       "      <th>Type_str</th>\n",
       "    </tr>\n",
       "    <tr>\n",
       "      <th>Id</th>\n",
       "      <th></th>\n",
       "      <th></th>\n",
       "      <th></th>\n",
       "      <th></th>\n",
       "      <th></th>\n",
       "      <th></th>\n",
       "      <th></th>\n",
       "      <th></th>\n",
       "      <th></th>\n",
       "      <th></th>\n",
       "      <th></th>\n",
       "    </tr>\n",
       "  </thead>\n",
       "  <tbody>\n",
       "    <tr>\n",
       "      <td>1</td>\n",
       "      <td>1.52101</td>\n",
       "      <td>13.64</td>\n",
       "      <td>4.49</td>\n",
       "      <td>1.10</td>\n",
       "      <td>71.78</td>\n",
       "      <td>0.06</td>\n",
       "      <td>8.75</td>\n",
       "      <td>0.0</td>\n",
       "      <td>0.0</td>\n",
       "      <td>1</td>\n",
       "      <td>BW-FP</td>\n",
       "    </tr>\n",
       "    <tr>\n",
       "      <td>2</td>\n",
       "      <td>1.51761</td>\n",
       "      <td>13.89</td>\n",
       "      <td>3.60</td>\n",
       "      <td>1.36</td>\n",
       "      <td>72.73</td>\n",
       "      <td>0.48</td>\n",
       "      <td>7.83</td>\n",
       "      <td>0.0</td>\n",
       "      <td>0.0</td>\n",
       "      <td>1</td>\n",
       "      <td>BW-FP</td>\n",
       "    </tr>\n",
       "    <tr>\n",
       "      <td>3</td>\n",
       "      <td>1.51618</td>\n",
       "      <td>13.53</td>\n",
       "      <td>3.55</td>\n",
       "      <td>1.54</td>\n",
       "      <td>72.99</td>\n",
       "      <td>0.39</td>\n",
       "      <td>7.78</td>\n",
       "      <td>0.0</td>\n",
       "      <td>0.0</td>\n",
       "      <td>1</td>\n",
       "      <td>BW-FP</td>\n",
       "    </tr>\n",
       "    <tr>\n",
       "      <td>4</td>\n",
       "      <td>1.51766</td>\n",
       "      <td>13.21</td>\n",
       "      <td>3.69</td>\n",
       "      <td>1.29</td>\n",
       "      <td>72.61</td>\n",
       "      <td>0.57</td>\n",
       "      <td>8.22</td>\n",
       "      <td>0.0</td>\n",
       "      <td>0.0</td>\n",
       "      <td>1</td>\n",
       "      <td>BW-FP</td>\n",
       "    </tr>\n",
       "    <tr>\n",
       "      <td>5</td>\n",
       "      <td>1.51742</td>\n",
       "      <td>13.27</td>\n",
       "      <td>3.62</td>\n",
       "      <td>1.24</td>\n",
       "      <td>73.08</td>\n",
       "      <td>0.55</td>\n",
       "      <td>8.07</td>\n",
       "      <td>0.0</td>\n",
       "      <td>0.0</td>\n",
       "      <td>1</td>\n",
       "      <td>BW-FP</td>\n",
       "    </tr>\n",
       "  </tbody>\n",
       "</table>\n",
       "</div>"
      ],
      "text/plain": [
       "         RI     Na    Mg    Al     Si     K    Ca   Ba   Fe  Type Type_str\n",
       "Id                                                                        \n",
       "1   1.52101  13.64  4.49  1.10  71.78  0.06  8.75  0.0  0.0     1    BW-FP\n",
       "2   1.51761  13.89  3.60  1.36  72.73  0.48  7.83  0.0  0.0     1    BW-FP\n",
       "3   1.51618  13.53  3.55  1.54  72.99  0.39  7.78  0.0  0.0     1    BW-FP\n",
       "4   1.51766  13.21  3.69  1.29  72.61  0.57  8.22  0.0  0.0     1    BW-FP\n",
       "5   1.51742  13.27  3.62  1.24  73.08  0.55  8.07  0.0  0.0     1    BW-FP"
      ]
     },
     "execution_count": 54,
     "metadata": {},
     "output_type": "execute_result"
    }
   ],
   "source": [
    "glass.head()"
   ]
  },
  {
   "cell_type": "markdown",
   "metadata": {},
   "source": [
    "# Análisis descriptivo"
   ]
  },
  {
   "cell_type": "code",
   "execution_count": 55,
   "metadata": {},
   "outputs": [
    {
     "data": {
      "image/png": "[encoded data removed]",
      "text/plain": [
       "<Figure size 432x288 with 1 Axes>"
      ]
     },
     "metadata": {
      "needs_background": "light"
     },
     "output_type": "display_data"
    }
   ],
   "source": [
    "np.random.seed(10)\n",
    "glass.groupby(by='Type_str').count().iloc[:,0].sort_values(ascending=False).plot.bar(color=np.random.random_sample((6,3)))\n",
    "plt.xticks(rotation=0)\n",
    "plt.xlabel('Tipo vidrio')\n",
    "plt.ylabel('Número de muestras')\n",
    "plt.title('Número de muestras por tipo de vidrio')\n",
    "plt.show()"
   ]
  },
  {
   "cell_type": "code",
   "execution_count": 56,
   "metadata": {},
   "outputs": [
    {
     "data": {
      "text/html": [
       "<div>\n",
       "<style scoped>\n",
       "    .dataframe tbody tr th:only-of-type {\n",
       "        vertical-align: middle;\n",
       "    }\n",
       "\n",
       "    .dataframe tbody tr th {\n",
       "        vertical-align: top;\n",
       "    }\n",
       "\n",
       "    .dataframe thead th {\n",
       "        text-align: right;\n",
       "    }\n",
       "</style>\n",
       "<table border=\"1\" class=\"dataframe\">\n",
       "  <thead>\n",
       "    <tr style=\"text-align: right;\">\n",
       "      <th></th>\n",
       "      <th>count</th>\n",
       "      <th>mean</th>\n",
       "      <th>std</th>\n",
       "      <th>min</th>\n",
       "      <th>25%</th>\n",
       "      <th>50%</th>\n",
       "      <th>75%</th>\n",
       "      <th>max</th>\n",
       "    </tr>\n",
       "  </thead>\n",
       "  <tbody>\n",
       "    <tr>\n",
       "      <td>RI</td>\n",
       "      <td>214.0</td>\n",
       "      <td>1.518365</td>\n",
       "      <td>0.003037</td>\n",
       "      <td>1.51115</td>\n",
       "      <td>1.516523</td>\n",
       "      <td>1.51768</td>\n",
       "      <td>1.519157</td>\n",
       "      <td>1.53393</td>\n",
       "    </tr>\n",
       "    <tr>\n",
       "      <td>Na</td>\n",
       "      <td>214.0</td>\n",
       "      <td>13.407850</td>\n",
       "      <td>0.816604</td>\n",
       "      <td>10.73000</td>\n",
       "      <td>12.907500</td>\n",
       "      <td>13.30000</td>\n",
       "      <td>13.825000</td>\n",
       "      <td>17.38000</td>\n",
       "    </tr>\n",
       "    <tr>\n",
       "      <td>Mg</td>\n",
       "      <td>214.0</td>\n",
       "      <td>2.684533</td>\n",
       "      <td>1.442408</td>\n",
       "      <td>0.00000</td>\n",
       "      <td>2.115000</td>\n",
       "      <td>3.48000</td>\n",
       "      <td>3.600000</td>\n",
       "      <td>4.49000</td>\n",
       "    </tr>\n",
       "    <tr>\n",
       "      <td>Al</td>\n",
       "      <td>214.0</td>\n",
       "      <td>1.444907</td>\n",
       "      <td>0.499270</td>\n",
       "      <td>0.29000</td>\n",
       "      <td>1.190000</td>\n",
       "      <td>1.36000</td>\n",
       "      <td>1.630000</td>\n",
       "      <td>3.50000</td>\n",
       "    </tr>\n",
       "    <tr>\n",
       "      <td>Si</td>\n",
       "      <td>214.0</td>\n",
       "      <td>72.650935</td>\n",
       "      <td>0.774546</td>\n",
       "      <td>69.81000</td>\n",
       "      <td>72.280000</td>\n",
       "      <td>72.79000</td>\n",
       "      <td>73.087500</td>\n",
       "      <td>75.41000</td>\n",
       "    </tr>\n",
       "    <tr>\n",
       "      <td>K</td>\n",
       "      <td>214.0</td>\n",
       "      <td>0.497056</td>\n",
       "      <td>0.652192</td>\n",
       "      <td>0.00000</td>\n",
       "      <td>0.122500</td>\n",
       "      <td>0.55500</td>\n",
       "      <td>0.610000</td>\n",
       "      <td>6.21000</td>\n",
       "    </tr>\n",
       "    <tr>\n",
       "      <td>Ca</td>\n",
       "      <td>214.0</td>\n",
       "      <td>8.956963</td>\n",
       "      <td>1.423153</td>\n",
       "      <td>5.43000</td>\n",
       "      <td>8.240000</td>\n",
       "      <td>8.60000</td>\n",
       "      <td>9.172500</td>\n",
       "      <td>16.19000</td>\n",
       "    </tr>\n",
       "    <tr>\n",
       "      <td>Ba</td>\n",
       "      <td>214.0</td>\n",
       "      <td>0.175047</td>\n",
       "      <td>0.497219</td>\n",
       "      <td>0.00000</td>\n",
       "      <td>0.000000</td>\n",
       "      <td>0.00000</td>\n",
       "      <td>0.000000</td>\n",
       "      <td>3.15000</td>\n",
       "    </tr>\n",
       "    <tr>\n",
       "      <td>Fe</td>\n",
       "      <td>214.0</td>\n",
       "      <td>0.057009</td>\n",
       "      <td>0.097439</td>\n",
       "      <td>0.00000</td>\n",
       "      <td>0.000000</td>\n",
       "      <td>0.00000</td>\n",
       "      <td>0.100000</td>\n",
       "      <td>0.51000</td>\n",
       "    </tr>\n",
       "  </tbody>\n",
       "</table>\n",
       "</div>"
      ],
      "text/plain": [
       "    count       mean       std       min        25%       50%        75%  \\\n",
       "RI  214.0   1.518365  0.003037   1.51115   1.516523   1.51768   1.519157   \n",
       "Na  214.0  13.407850  0.816604  10.73000  12.907500  13.30000  13.825000   \n",
       "Mg  214.0   2.684533  1.442408   0.00000   2.115000   3.48000   3.600000   \n",
       "Al  214.0   1.444907  0.499270   0.29000   1.190000   1.36000   1.630000   \n",
       "Si  214.0  72.650935  0.774546  69.81000  72.280000  72.79000  73.087500   \n",
       "K   214.0   0.497056  0.652192   0.00000   0.122500   0.55500   0.610000   \n",
       "Ca  214.0   8.956963  1.423153   5.43000   8.240000   8.60000   9.172500   \n",
       "Ba  214.0   0.175047  0.497219   0.00000   0.000000   0.00000   0.000000   \n",
       "Fe  214.0   0.057009  0.097439   0.00000   0.000000   0.00000   0.100000   \n",
       "\n",
       "         max  \n",
       "RI   1.53393  \n",
       "Na  17.38000  \n",
       "Mg   4.49000  \n",
       "Al   3.50000  \n",
       "Si  75.41000  \n",
       "K    6.21000  \n",
       "Ca  16.19000  \n",
       "Ba   3.15000  \n",
       "Fe   0.51000  "
      ]
     },
     "execution_count": 56,
     "metadata": {},
     "output_type": "execute_result"
    }
   ],
   "source": [
    "glass.drop('Type', axis=1).describe().transpose()"
   ]
  },
  {
   "cell_type": "code",
   "execution_count": 57,
   "metadata": {},
   "outputs": [
    {
     "data": {
      "image/png": "[encoded data removed]",
      "text/plain": [
       "<Figure size 1080x504 with 1 Axes>"
      ]
     },
     "metadata": {
      "needs_background": "light"
     },
     "output_type": "display_data"
    }
   ],
   "source": [
    "plt.figure(figsize=(15,7))\n",
    "glass[input_columns].boxplot()\n",
    "plt.title('Gráfico de cajas para cada atributo')\n",
    "plt.ylabel('Peso (% en oxido)')\n",
    "plt.show()"
   ]
  },
  {
   "cell_type": "code",
   "execution_count": 84,
   "metadata": {},
   "outputs": [
    {
     "name": "stderr",
     "output_type": "stream",
     "text": [
      "C:\\Users\\win10\\Anaconda3\\lib\\site-packages\\pandas\\plotting\\_matplotlib\\boxplot.py:355: UserWarning: When passing multiple axes, sharex and sharey are ignored. These settings must be specified when creating axes\n",
      "  **kwds\n"
     ]
    },
    {
     "data": {
      "image/png": "[encoded data removed]",
      "text/plain": [
       "<Figure size 1080x576 with 9 Axes>"
      ]
     },
     "metadata": {
      "needs_background": "light"
     },
     "output_type": "display_data"
    }
   ],
   "source": [
    "fig, ax = plt.subplots(3,3,figsize=(15,8), gridspec_kw = {'hspace':0.7})\n",
    "glass[input_columns+['Type_str']].boxplot(by='Type_str', ax=ax)\n",
    "[ax[ii,jj].set_ylabel('Peso (% en oxido)') for ii,jj in itertools.product(range(3), range(3)) if columns_sorted[3*ii+jj]!='RI']\n",
    "[ax[ii,jj].set_xlabel('Tipo cristal') for ii,jj in itertools.product(range(3), range(3))]\n",
    "\n",
    "plt.suptitle('Gráfico de cajas por tipo para cada columna')\n",
    "plt.show()\n"
   ]
  },
  {
   "cell_type": "markdown",
   "metadata": {},
   "source": [
    "## Reescalado de las variables"
   ]
  },
  {
   "cell_type": "code",
   "execution_count": 59,
   "metadata": {},
   "outputs": [
    {
     "data": {
      "text/plain": [
       "array([[ 1.52101, 13.64   ,  4.49   , ...,  8.75   ,  0.     ,  0.     ],\n",
       "       [ 1.51761, 13.89   ,  3.6    , ...,  7.83   ,  0.     ,  0.     ],\n",
       "       [ 1.51618, 13.53   ,  3.55   , ...,  7.78   ,  0.     ,  0.     ],\n",
       "       ...,\n",
       "       [ 1.52065, 14.36   ,  0.     , ...,  8.44   ,  1.64   ,  0.     ],\n",
       "       [ 1.51651, 14.38   ,  0.     , ...,  8.48   ,  1.57   ,  0.     ],\n",
       "       [ 1.51711, 14.23   ,  0.     , ...,  8.62   ,  1.67   ,  0.     ]])"
      ]
     },
     "execution_count": 59,
     "metadata": {},
     "output_type": "execute_result"
    }
   ],
   "source": [
    "X = glass.drop(['Type', 'Type_str'], axis=1).to_numpy()\n",
    "X"
   ]
  },
  {
   "cell_type": "code",
   "execution_count": 60,
   "metadata": {},
   "outputs": [],
   "source": [
    "# Usamos el scalado estandar (Z-score: z_i=(x_i-media)/desviacion_estandar)\n",
    "scaler = StandardScaler()\n",
    "X_scaled = scaler.fit_transform(X)"
   ]
  },
  {
   "cell_type": "code",
   "execution_count": 61,
   "metadata": {},
   "outputs": [
    {
     "name": "stderr",
     "output_type": "stream",
     "text": [
      "C:\\Users\\win10\\Anaconda3\\lib\\site-packages\\pandas\\plotting\\_matplotlib\\boxplot.py:355: UserWarning: When passing multiple axes, sharex and sharey are ignored. These settings must be specified when creating axes\n",
      "  **kwds\n"
     ]
    },
    {
     "data": {
      "image/png": "[encoded data removed]",
      "text/plain": [
       "<Figure size 1080x576 with 9 Axes>"
      ]
     },
     "metadata": {
      "needs_background": "light"
     },
     "output_type": "display_data"
    }
   ],
   "source": [
    "glass_norm = pd.DataFrame(X_scaled, columns=input_columns)\n",
    "glass_norm.loc[:, 'Type_str'] = glass['Type_str']\n",
    "\n",
    "fig, ax = plt.subplots(3,3,figsize=(15,8), gridspec_kw = {'hspace':0.7})\n",
    "glass_norm.boxplot(by='Type_str', ax=ax)\n",
    "[ax[ii,jj].set_ylabel('Peso (% en oxido)') for ii,jj in itertools.product(range(3), range(3)) if columns_sorted[3*ii+jj]!='RI']\n",
    "[ax[ii,jj].set_xlabel('Tipo cristal') for ii,jj in itertools.product(range(3), range(3))]\n",
    "\n",
    "plt.suptitle('Gráfico de cajas por tipo para cada columna')\n",
    "plt.show()\n"
   ]
  },
  {
   "cell_type": "markdown",
   "metadata": {},
   "source": [
    "## Reducción de la dimensionalidad: Principal Component Analysis (PCA)"
   ]
  },
  {
   "cell_type": "code",
   "execution_count": 303,
   "metadata": {},
   "outputs": [
    {
     "data": {
      "image/png": "[encoded data removed]",
      "text/plain": [
       "<Figure size 720x576 with 2 Axes>"
      ]
     },
     "metadata": {
      "needs_background": "light"
     },
     "output_type": "display_data"
    }
   ],
   "source": [
    "###########################\n",
    "# PCA\n",
    "###########################\n",
    "\n",
    "\n",
    "fig, ax = plt.subplots(2,1, figsize=(10,8), gridspec_kw={'height_ratios':[0.7,0.3], 'hspace':0.6})\n",
    "\n",
    "pca = PCA().fit(X_scaled)\n",
    "ax[0].plot(np.arange(1,len(pca.explained_variance_ratio_)+1),   \n",
    "    np.cumsum(pca.explained_variance_ratio_), marker=\".\")\n",
    "ax[0].set_xlabel('Number of components')\n",
    "ax[0].set_ylabel('Cumulative explained variance')\n",
    "ax[0].set_title(\"Explained variance vs. Number of components\")\n",
    "\n",
    "# PC explained variance \n",
    "pca3 = PCA(n_components=3)\n",
    "pca3.fit(X_scaled)\n",
    "# Component meaning\n",
    "ax[1].matshow(pca3.components_, cmap=\"bwr\",vmin=-1,vmax=1)\n",
    "ax[1].set_yticks(range(3))\n",
    "ax[1].set_yticklabels(['1st Comp','2nd Comp', '3rd Comp'], fontsize=10)\n",
    "#plt.colorbar()\n",
    "ax[1].set_xticks(range(len(input_columns)), )\n",
    "ax[1].set_xticklabels(input_columns, rotation=0,ha='center')\n",
    "ax[1].set_ylim(2.5,-0.5)\n",
    "[ax[1].text(jj,ii, f'{pca3.components_[ii,jj]:1.2f}', va='center', ha='center', fontsize=8) for ii, jj in itertools.product(range(3), range(len(input_columns)))]\n",
    "ax[1].set_title('Correlations', pad=30)\n",
    "plt.show()"
   ]
  },
  {
   "cell_type": "code",
   "execution_count": 305,
   "metadata": {},
   "outputs": [
    {
     "data": {
      "image/png": "[encoded data removed]",
      "text/plain": [
       "<Figure size 720x432 with 1 Axes>"
      ]
     },
     "metadata": {
      "needs_background": "light"
     },
     "output_type": "display_data"
    }
   ],
   "source": [
    "\n",
    "# 2PC plot\n",
    "# > Performe PCA\n",
    "pca2 = PCA(n_components=2)\n",
    "pca2.fit(X_scaled)\n",
    "X2 = pca2.transform(X_scaled)\n",
    "# > Plot dimensionality reduction to 2PCs\n",
    "# >> Scatter all points, with the corresponding color. We set \n",
    "#      transparency to 20%\n",
    "plt.figure(figsize=(10,6))\n",
    "plt.scatter(X2[:, 0], X2[:, 1], alpha=0.4, marker=\"o\", s=28,c=glass['Type'])\n",
    "plt.xlabel('PC1')\n",
    "plt.ylabel('PC2')\n",
    "plt.title(\"2PC Scatterplot\")\n",
    "plt.show()"
   ]
  },
  {
   "cell_type": "markdown",
   "metadata": {},
   "source": [
    "## Clustering\n"
   ]
  },
  {
   "cell_type": "markdown",
   "metadata": {},
   "source": [
    "### KMeans\n"
   ]
  },
  {
   "cell_type": "code",
   "execution_count": 165,
   "metadata": {},
   "outputs": [],
   "source": [
    "kmeans = KMeans(n_clusters=6, random_state=0).fit(X_scaled)\n",
    "cluster_index = kmeans.labels_\n",
    "\n",
    "collections.Counter(kmeans.labels_)\n",
    "\n",
    "\n",
    "glass['cluster_KMeans'] = cluster_index\n"
   ]
  },
  {
   "cell_type": "code",
   "execution_count": 63,
   "metadata": {
    "scrolled": true
   },
   "outputs": [
    {
     "name": "stdout",
     "output_type": "stream",
     "text": [
      "Cluster 0\n",
      "\t ({2: 20, 1: 15, 3: 3, 5: 2})\n",
      "Cluster 1\n",
      "\t ({5: 2})\n",
      "Cluster 2\n",
      "\t ({7: 24, 5: 1, 6: 1})\n",
      "Cluster 3\n",
      "\t ({2: 7})\n",
      "Cluster 4\n",
      "\t ({1: 17, 2: 7, 6: 7, 5: 5, 7: 3, 3: 2})\n",
      "Cluster 5\n",
      "\t ({2: 42, 1: 38, 3: 12, 5: 3, 7: 2, 6: 1})\n"
     ]
    }
   ],
   "source": [
    "\n",
    "def print_cluster_purity(data_pd, cluster_col):\n",
    "\n",
    "    for cluster_idx, cluster_pd in glass.groupby(by=cluster_col):\n",
    "\n",
    "        print(f'Cluster {cluster_idx}')\n",
    "        print('\\t',str(collections.Counter(cluster_pd['Type'])).replace('Counter',''))\n",
    "\n",
    "print_cluster_purity(glass, 'cluster_KMeans')   "
   ]
  },
  {
   "cell_type": "markdown",
   "metadata": {},
   "source": [
    "## Agglomerative Clustering"
   ]
  },
  {
   "cell_type": "code",
   "execution_count": 64,
   "metadata": {},
   "outputs": [
    {
     "data": {
      "text/plain": [
       "AgglomerativeClustering()"
      ]
     },
     "execution_count": 64,
     "metadata": {},
     "output_type": "execute_result"
    }
   ],
   "source": [
    "from sklearn.cluster import AgglomerativeClustering\n",
    "clustering = AgglomerativeClustering().fit(X_scaled)\n",
    "clustering"
   ]
  },
  {
   "cell_type": "code",
   "execution_count": 65,
   "metadata": {},
   "outputs": [
    {
     "data": {
      "image/png": "[encoded data removed]",
      "text/plain": [
       "<Figure size 1080x720 with 1 Axes>"
      ]
     },
     "metadata": {
      "needs_background": "light"
     },
     "output_type": "display_data"
    },
    {
     "name": "stdout",
     "output_type": "stream",
     "text": [
      "Cluster 0\n",
      "\t ({2: 38, 1: 32, 3: 8, 6: 8, 5: 6, 7: 2})\n",
      "Cluster 1\n",
      "\t ({7: 25, 5: 1, 6: 1})\n",
      "Cluster 2\n",
      "\t ({2: 8, 5: 2})\n",
      "Cluster 3\n",
      "\t ({5: 2})\n",
      "Cluster 4\n",
      "\t ({2: 26, 1: 18, 3: 5, 5: 2})\n",
      "Cluster 5\n",
      "\t ({1: 20, 2: 4, 3: 4, 7: 2})\n"
     ]
    }
   ],
   "source": [
    "import numpy as np\n",
    "\n",
    "from matplotlib import pyplot as plt\n",
    "from scipy.cluster.hierarchy import dendrogram\n",
    "from sklearn.datasets import load_iris\n",
    "from sklearn.cluster import AgglomerativeClustering\n",
    "\n",
    "\n",
    "def plot_dendrogram(model, **kwargs):\n",
    "    # Create linkage matrix and then plot the dendrogram (source: scikit documentation)\n",
    "    \n",
    "    \n",
    "    # Create the counts of samples under each node\n",
    "    counts = np.zeros(model.children_.shape[0])\n",
    "    n_samples = len(model.labels_)\n",
    "    for i, merge in enumerate(model.children_):\n",
    "        current_count = 0\n",
    "        for child_idx in merge:\n",
    "            if child_idx < n_samples:\n",
    "                current_count += 1  # leaf node\n",
    "            else:\n",
    "                current_count += counts[child_idx - n_samples]\n",
    "        counts[i] = current_count\n",
    "\n",
    "    linkage_matrix = np.column_stack([model.children_, model.distances_, counts]).astype(float)\n",
    "\n",
    "    # Plot the corresponding dendrogram\n",
    "    dendrogram(linkage_matrix, **kwargs)\n",
    "\n",
    "# setting distance_threshold=0 ensures we compute the full tree.\n",
    "linkage_list = ['ward', 'average', 'complete', 'single']\n",
    "d_th = 15\n",
    "model_agg = AgglomerativeClustering(distance_threshold=d_th, n_clusters=None, linkage=linkage_list[0])\n",
    "\n",
    "model_agg = model_agg.fit(X_scaled)\n",
    "\n",
    "fig, ax = plt.subplots(figsize=(15,10))\n",
    "plt.title('Hierarchical Clustering Dendrogram')\n",
    "# plot the top three levels of the dendrogram\n",
    "plot_dendrogram(model_agg, truncate_mode='level', p=10, ax=ax)\n",
    "plt.xlabel(\"Number of points in node (or index of point if no parenthesis).\")\n",
    "plt.axhline(d_th, linestyle='--', color='gray', zorder=-1)\n",
    "plt.show()\n",
    "\n",
    "glass['cluster_agg'] = model_agg.labels_\n",
    "print_cluster_purity(glass, 'cluster_agg')"
   ]
  },
  {
   "cell_type": "markdown",
   "metadata": {},
   "source": [
    "# Aprendizaje supervisado "
   ]
  },
  {
   "cell_type": "markdown",
   "metadata": {},
   "source": [
    "# Regresión"
   ]
  },
  {
   "cell_type": "markdown",
   "metadata": {},
   "source": [
    "# Clasificación"
   ]
  },
  {
   "cell_type": "markdown",
   "metadata": {},
   "source": [
    "Usaremos algunos algoritmos de clasificación de Sklearn:\n",
    "\n",
    " - [SVM, Support Vector Machine](https://scikit-learn.org/stable/modules/generated/sklearn.svm.SVC.html?highlight=svc#sklearn.svm.SVC)\n",
    " \n",
    " - [KNN, K nearest neighbours](https://scikit-learn.org/stable/modules/generated/sklearn.neighbors.KNeighborsClassifier.html#sklearn.neighbors.KNeighborsClassifier),  [Info](https://scikit-learn.org/stable/modules/neighbors.html#nearest-centroid-classifier)\n",
    " \n",
    " - [Decision Tree](https://scikit-learn.org/stable/modules/generated/sklearn.tree.DecisionTreeClassifier.html)\n",
    " \n",
    " - [Random Forest](https://scikit-learn.org/stable/modules/generated/sklearn.ensemble.RandomForestClassifier.html?highlight=randomforest#sklearn.ensemble.RandomForestClassifier)\n",
    " \n",
    " ---\n",
    " "
   ]
  },
  {
   "cell_type": "markdown",
   "metadata": {},
   "source": [
    "Comunmente se pretende entrenar un modelo y despues evaluar como de bueno es.\n",
    "\n",
    "Para esto podemos dividir los datos. Esto podemos hacerlo mediante [*train_test_split*](https://scikit-learn.org/stable/modules/generated/sklearn.model_selection.train_test_split.html) de Sklearn."
   ]
  },
  {
   "cell_type": "code",
   "execution_count": 236,
   "metadata": {},
   "outputs": [],
   "source": [
    "\n",
    "# Fracción de los datos reservados para la validación.\n",
    "test_size = 0.2\n",
    "\n",
    "# La variable a clasificar.\n",
    "tarjet_values = glass['Type']\n",
    "\n",
    "# Datos separados por entrenamiento / validación\n",
    "X_train, X_test, y_train, y_test = train_test_split(X_scaled, tarjet_values, test_size=test_size, random_state = 7)\n",
    "# La variable random_state se introduce para reproducibilidad. "
   ]
  },
  {
   "cell_type": "code",
   "execution_count": 249,
   "metadata": {},
   "outputs": [
    {
     "name": "stdout",
     "output_type": "stream",
     "text": [
      "Numero de instancias \n",
      "\t Entrenamiento\t 171\n",
      "\t Validación\t  43\n",
      "\n",
      "Porcentaje Validación 0.201\n"
     ]
    }
   ],
   "source": [
    "print(f'Numero de instancias \\n\\t Entrenamiento\\t {X_train.shape[0]:3d}\\n\\t Validación\\t {X_test.shape[0]:3d}')\n",
    "print()\n",
    "print(f'Porcentaje Validación {(X_test.shape[0]/X_scaled.shape[0]):1.3f}')"
   ]
  },
  {
   "cell_type": "markdown",
   "metadata": {},
   "source": [
    "Cargaremos diversos modelos, los entrenaremos mediante [Cross Validation](https://towardsdatascience.com/cross-validation-430d9a5fee22) y veremos como han desempeñado en los datos de entrenamiento.\n",
    "\n",
    "    La CV o validación cruzada consiste en dividir los datos en $k$ diferentes particiones de misma dimension (número de muestras). Los modelos se entrenan con una parte de los datos y se evaluan en la otra. Se obtiene una media y desviación de la métrica deseada (comunmente la exactitud o *accuracy*). Queremos una alta exactitud media y una baja dispersión.\n",
    "    \n",
    "Usaremos *StratifiedKfolds* y *cross_val_score* para "
   ]
  },
  {
   "cell_type": "code",
   "execution_count": 195,
   "metadata": {},
   "outputs": [
    {
     "name": "stdout",
     "output_type": "stream",
     "text": [
      "SVC-accuracy: \t67.24 +- 3.62 % \t [0.031243324279785156 s]\n",
      "KNN-accuracy: \t64.53 +- 5.29 % \t [0.01562047004699707 s]\n",
      "DT-accuracy: \t63.71 +- 12.96 % \t [0.015620708465576172 s]\n",
      "RF-accuracy: \t73.86 +- 2.33 % \t [0.3884427547454834 s]\n"
     ]
    }
   ],
   "source": [
    "\n",
    "seed = 10\n",
    "n_estimators = 200\n",
    "\n",
    "model_list = [ ('SVC', SVC(random_state=seed)), \n",
    "               ('KNN',  KNeighborsClassifier()),\n",
    "               ('DT', DecisionTreeClassifier()),\n",
    "               ('RF', RandomForestClassifier(random_state=seed, n_estimators=n_estimators))]\n",
    "\n",
    "results, names, times  = [], [] , []\n",
    "n_folds = 4\n",
    "scoring_list = ['accuracy', 'precision', 'recall']\n",
    "scoring = 'accuracy'\n",
    "\n",
    "# Inicializamos dataframe para \n",
    "results_pd = pd.DataFrame([], index = [model[0] for model in model_list], columns=['mean_accuracy (%)', 'std_accuracy (%)', 'cpu_time (s)'])\n",
    "\n",
    "for clf_name, clf_model in model_list:\n",
    "\n",
    "    start = time() # Empezamos el crono\n",
    "\n",
    "    # Creamos objeto de K particiones\n",
    "    kfold = StratifiedKFold(n_splits=n_folds, random_state=seed, shuffle=True)\n",
    "    # Resultados para el entrenamiento con *n_folds* particiones\n",
    "    cv_results = cross_val_score(clf_model, X_train, y_train, cv=kfold, scoring = scoring, n_jobs=-1) \n",
    "\n",
    "\n",
    "    t_elapsed = time() - start # Calcular tiempo\n",
    "    \n",
    "    # Almacenar resultados\n",
    "    results.append(cv_results) # Score\n",
    "    names.append(clf_name)     # Nombre de clasificador\n",
    "    times.append(t_elapsed)    # Tiempo de computación\n",
    "\n",
    "    \n",
    "    results_pd.loc[clf_name,:]=[100*cv_results.mean(), 100*cv_results.std(), t_elapsed ]\n",
    "    \n",
    "    msg = f'{clf_name}-{scoring}: \\t{100*cv_results.mean():3.2f} +- {100*cv_results.std():3.2f} % \\t [{t_elapsed} s]'\n",
    "    print(msg)\n"
   ]
  },
  {
   "cell_type": "code",
   "execution_count": 196,
   "metadata": {},
   "outputs": [
    {
     "data": {
      "text/html": [
       "<div>\n",
       "<style scoped>\n",
       "    .dataframe tbody tr th:only-of-type {\n",
       "        vertical-align: middle;\n",
       "    }\n",
       "\n",
       "    .dataframe tbody tr th {\n",
       "        vertical-align: top;\n",
       "    }\n",
       "\n",
       "    .dataframe thead th {\n",
       "        text-align: right;\n",
       "    }\n",
       "</style>\n",
       "<table border=\"1\" class=\"dataframe\">\n",
       "  <thead>\n",
       "    <tr style=\"text-align: right;\">\n",
       "      <th></th>\n",
       "      <th>mean_accuracy (%)</th>\n",
       "      <th>std_accuracy (%)</th>\n",
       "      <th>cpu_time (s)</th>\n",
       "    </tr>\n",
       "  </thead>\n",
       "  <tbody>\n",
       "    <tr>\n",
       "      <td>SVC</td>\n",
       "      <td>67.2365</td>\n",
       "      <td>3.62059</td>\n",
       "      <td>0.0312433</td>\n",
       "    </tr>\n",
       "    <tr>\n",
       "      <td>KNN</td>\n",
       "      <td>64.5299</td>\n",
       "      <td>5.28603</td>\n",
       "      <td>0.0156205</td>\n",
       "    </tr>\n",
       "    <tr>\n",
       "      <td>DT</td>\n",
       "      <td>63.7108</td>\n",
       "      <td>12.9565</td>\n",
       "      <td>0.0156207</td>\n",
       "    </tr>\n",
       "    <tr>\n",
       "      <td>RF</td>\n",
       "      <td>73.8604</td>\n",
       "      <td>2.32656</td>\n",
       "      <td>0.388443</td>\n",
       "    </tr>\n",
       "  </tbody>\n",
       "</table>\n",
       "</div>"
      ],
      "text/plain": [
       "    mean_accuracy (%) std_accuracy (%) cpu_time (s)\n",
       "SVC           67.2365          3.62059    0.0312433\n",
       "KNN           64.5299          5.28603    0.0156205\n",
       "DT            63.7108          12.9565    0.0156207\n",
       "RF            73.8604          2.32656     0.388443"
      ]
     },
     "execution_count": 196,
     "metadata": {},
     "output_type": "execute_result"
    }
   ],
   "source": [
    "results_pd"
   ]
  },
  {
   "cell_type": "markdown",
   "metadata": {},
   "source": [
    "### Ajuste de hiperparámetros: GridSearchCV"
   ]
  },
  {
   "cell_type": "markdown",
   "metadata": {},
   "source": [
    "Vamos a probar diferentes valores de parámetros de un RF."
   ]
  },
  {
   "cell_type": "code",
   "execution_count": 269,
   "metadata": {},
   "outputs": [
    {
     "data": {
      "text/plain": [
       "GridSearchCV(cv=4, estimator=RandomForestClassifier(), n_jobs=-1,\n",
       "             param_grid={'max_depth': [None, 5], 'max_features': [0.05, 0.1],\n",
       "                         'min_samples_split': [0.005, 0.01],\n",
       "                         'n_estimators': [100, 200, 300, 400]},\n",
       "             scoring=make_scorer(accuracy_score))"
      ]
     },
     "execution_count": 269,
     "metadata": {},
     "output_type": "execute_result"
    }
   ],
   "source": [
    "# Creamos el objeto clasificador\n",
    "RF_cls = RandomForestClassifier()\n",
    "\n",
    "\n",
    "# Introducimos varias metricas a modo de ejemplo, tan solo usaremos 'accuracy'\n",
    "#  Las otras dos las dejo para futuro uso\n",
    "scoring_dict = {\"accuracy\":  make_scorer(accuracy_score), \n",
    "                \"recall\":    make_scorer(recall_score,    average=\"weighted\"),\n",
    "                \"precision\": make_scorer(precision_score, average=\"weighted\")}\n",
    "# Las métricas recall y precisión requieren especificar el parámetro average para problemas\n",
    "#  multiclase\n",
    "\n",
    "# Introduciomos los parámetros sobre los que buscaremos\n",
    "tuned_parameters = {\n",
    "    'n_estimators': [100, 200, 300, 400], # number of estimators\n",
    "    #'criterion': ['gini', 'entropy'],    # splitting criterion\n",
    "    'max_features':[0.05 , 0.1],          # maximum features used at each split\n",
    "    'max_depth': [None, 5],               # max depth of the trees\n",
    "    'min_samples_split': [0.005, 0.01],   # mininal samples in leafs\n",
    "    }\n",
    "\n",
    "# Especificamos el clasificador, los valores de parámetros, la métrica a usar, las K particiones para el CV y\n",
    "#  usamos todos los procesadores del ordenador (njobs=-1, numero de trabajos en paralelo)\n",
    "k_folds = 4\n",
    "tuned_RF =  GridSearchCV(RF_cls, param_grid = tuned_parameters, scoring = scoring_dict['accuracy'], cv=k_folds, n_jobs=-1)\n",
    "\n",
    "# Entrenamos para *k_folds* particiones y *tuned_parameters* malla de parámetros\n",
    "tuned_RF.fit(X_train, y_train)"
   ]
  },
  {
   "cell_type": "markdown",
   "metadata": {},
   "source": [
    "Esto nos devuelve como veis un GridSearchCV, que tiene atributos"
   ]
  },
  {
   "cell_type": "code",
   "execution_count": 261,
   "metadata": {
    "scrolled": true
   },
   "outputs": [
    {
     "data": {
      "text/plain": [
       "['_abc_impl',\n",
       " '_check_is_fitted',\n",
       " '_check_n_features',\n",
       " '_estimator_type',\n",
       " '_format_results',\n",
       " '_get_param_names',\n",
       " '_get_tags',\n",
       " '_more_tags',\n",
       " '_pairwise',\n",
       " '_repr_html_',\n",
       " '_repr_html_inner',\n",
       " '_repr_mimebundle_',\n",
       " '_required_parameters',\n",
       " '_run_search',\n",
       " '_validate_data',\n",
       " 'best_estimator_',\n",
       " 'best_index_',\n",
       " 'best_params_',\n",
       " 'best_score_',\n",
       " 'classes_',\n",
       " 'cv',\n",
       " 'cv_results_',\n",
       " 'decision_function',\n",
       " 'error_score',\n",
       " 'estimator',\n",
       " 'fit',\n",
       " 'get_params',\n",
       " 'iid',\n",
       " 'inverse_transform',\n",
       " 'multimetric_',\n",
       " 'n_features_in_',\n",
       " 'n_jobs',\n",
       " 'n_splits_',\n",
       " 'param_grid',\n",
       " 'pre_dispatch',\n",
       " 'predict',\n",
       " 'predict_log_proba',\n",
       " 'predict_proba',\n",
       " 'refit',\n",
       " 'refit_time_',\n",
       " 'return_train_score',\n",
       " 'score',\n",
       " 'scorer_',\n",
       " 'scoring',\n",
       " 'set_params',\n",
       " 'transform',\n",
       " 'verbose']"
      ]
     },
     "execution_count": 261,
     "metadata": {},
     "output_type": "execute_result"
    }
   ],
   "source": [
    "[attr for attr in dir(tuned_RF) if '__' not in attr]"
   ]
  },
  {
   "cell_type": "code",
   "execution_count": 256,
   "metadata": {},
   "outputs": [
    {
     "data": {
      "text/plain": [
       "RandomForestClassifier(max_features=0.1, min_samples_split=0.01,\n",
       "                       n_estimators=300)"
      ]
     },
     "execution_count": 256,
     "metadata": {},
     "output_type": "execute_result"
    }
   ],
   "source": [
    "tuned_RF.best_estimator_"
   ]
  },
  {
   "cell_type": "code",
   "execution_count": 257,
   "metadata": {},
   "outputs": [
    {
     "data": {
      "text/plain": [
       "{'mean_fit_time': array([0.14908546, 0.27890319, 0.47095716, 0.70415729, 0.16582334,\n",
       "        0.30010939, 0.47633469, 0.6424318 , 0.16171855, 0.29711807,\n",
       "        0.61474818, 0.64790469, 0.14803153, 0.37406564, 0.55442089,\n",
       "        0.68279034, 0.17039615, 0.44262999, 0.57217008, 0.72507274,\n",
       "        0.1736477 , 0.30471683, 0.43290406, 0.5734849 , 0.15148193,\n",
       "        0.40305036, 0.51105464, 0.7256456 , 0.19287503, 0.377877  ,\n",
       "        0.44644654, 0.58700657]),\n",
       " 'std_fit_time': array([0.00914073, 0.00832114, 0.00835548, 0.01445859, 0.00786493,\n",
       "        0.00800933, 0.02750493, 0.01658586, 0.01186647, 0.01505596,\n",
       "        0.04201937, 0.03580855, 0.00828019, 0.01611874, 0.01159653,\n",
       "        0.01025783, 0.01371943, 0.01473541, 0.02533847, 0.02403158,\n",
       "        0.00784573, 0.01096724, 0.00712165, 0.01062993, 0.00716527,\n",
       "        0.01538994, 0.02117806, 0.02096453, 0.00809815, 0.00995392,\n",
       "        0.00415028, 0.01340512]),\n",
       " 'mean_score_time': array([0.01408887, 0.02774698, 0.03773135, 0.054941  , 0.01811779,\n",
       "        0.02515697, 0.04730844, 0.05436116, 0.01862001, 0.02520311,\n",
       "        0.04329383, 0.06046093, 0.0110724 , 0.02367002, 0.04229873,\n",
       "        0.05503219, 0.01511711, 0.03081679, 0.06105644, 0.0528329 ,\n",
       "        0.01812196, 0.02767795, 0.03322512, 0.04985476, 0.01458776,\n",
       "        0.02823275, 0.03828776, 0.0629465 , 0.03274137, 0.03122735,\n",
       "        0.04026943, 0.04062736]),\n",
       " 'std_score_time': array([4.02093164e-03, 3.34922105e-03, 3.29107480e-03, 5.56277801e-03,\n",
       "        3.47521124e-03, 5.02408636e-03, 9.53066561e-03, 4.01744196e-03,\n",
       "        8.66893183e-04, 4.13792995e-03, 4.14510854e-03, 1.00610358e-02,\n",
       "        1.01210295e-03, 3.86341235e-03, 3.48853273e-03, 5.56962602e-03,\n",
       "        3.01125762e-03, 6.71331963e-03, 1.23599572e-02, 3.28889303e-03,\n",
       "        3.46759491e-03, 4.36557287e-03, 4.16413691e-03, 9.03690754e-04,\n",
       "        4.58503461e-03, 4.73722138e-03, 3.50141719e-03, 1.31029239e-02,\n",
       "        2.25340009e-02, 7.17917089e-03, 1.95854550e-05, 9.80406753e-03]),\n",
       " 'param_max_depth': masked_array(data=[None, None, None, None, None, None, None, None, None,\n",
       "                    None, None, None, None, None, None, None, 5, 5, 5, 5,\n",
       "                    5, 5, 5, 5, 5, 5, 5, 5, 5, 5, 5, 5],\n",
       "              mask=[False, False, False, False, False, False, False, False,\n",
       "                    False, False, False, False, False, False, False, False,\n",
       "                    False, False, False, False, False, False, False, False,\n",
       "                    False, False, False, False, False, False, False, False],\n",
       "        fill_value='?',\n",
       "             dtype=object),\n",
       " 'param_max_features': masked_array(data=[0.05, 0.05, 0.05, 0.05, 0.05, 0.05, 0.05, 0.05, 0.1,\n",
       "                    0.1, 0.1, 0.1, 0.1, 0.1, 0.1, 0.1, 0.05, 0.05, 0.05,\n",
       "                    0.05, 0.05, 0.05, 0.05, 0.05, 0.1, 0.1, 0.1, 0.1, 0.1,\n",
       "                    0.1, 0.1, 0.1],\n",
       "              mask=[False, False, False, False, False, False, False, False,\n",
       "                    False, False, False, False, False, False, False, False,\n",
       "                    False, False, False, False, False, False, False, False,\n",
       "                    False, False, False, False, False, False, False, False],\n",
       "        fill_value='?',\n",
       "             dtype=object),\n",
       " 'param_min_samples_split': masked_array(data=[0.005, 0.005, 0.005, 0.005, 0.01, 0.01, 0.01, 0.01,\n",
       "                    0.005, 0.005, 0.005, 0.005, 0.01, 0.01, 0.01, 0.01,\n",
       "                    0.005, 0.005, 0.005, 0.005, 0.01, 0.01, 0.01, 0.01,\n",
       "                    0.005, 0.005, 0.005, 0.005, 0.01, 0.01, 0.01, 0.01],\n",
       "              mask=[False, False, False, False, False, False, False, False,\n",
       "                    False, False, False, False, False, False, False, False,\n",
       "                    False, False, False, False, False, False, False, False,\n",
       "                    False, False, False, False, False, False, False, False],\n",
       "        fill_value='?',\n",
       "             dtype=object),\n",
       " 'param_n_estimators': masked_array(data=[100, 200, 300, 400, 100, 200, 300, 400, 100, 200, 300,\n",
       "                    400, 100, 200, 300, 400, 100, 200, 300, 400, 100, 200,\n",
       "                    300, 400, 100, 200, 300, 400, 100, 200, 300, 400],\n",
       "              mask=[False, False, False, False, False, False, False, False,\n",
       "                    False, False, False, False, False, False, False, False,\n",
       "                    False, False, False, False, False, False, False, False,\n",
       "                    False, False, False, False, False, False, False, False],\n",
       "        fill_value='?',\n",
       "             dtype=object),\n",
       " 'params': [{'max_depth': None,\n",
       "   'max_features': 0.05,\n",
       "   'min_samples_split': 0.005,\n",
       "   'n_estimators': 100},\n",
       "  {'max_depth': None,\n",
       "   'max_features': 0.05,\n",
       "   'min_samples_split': 0.005,\n",
       "   'n_estimators': 200},\n",
       "  {'max_depth': None,\n",
       "   'max_features': 0.05,\n",
       "   'min_samples_split': 0.005,\n",
       "   'n_estimators': 300},\n",
       "  {'max_depth': None,\n",
       "   'max_features': 0.05,\n",
       "   'min_samples_split': 0.005,\n",
       "   'n_estimators': 400},\n",
       "  {'max_depth': None,\n",
       "   'max_features': 0.05,\n",
       "   'min_samples_split': 0.01,\n",
       "   'n_estimators': 100},\n",
       "  {'max_depth': None,\n",
       "   'max_features': 0.05,\n",
       "   'min_samples_split': 0.01,\n",
       "   'n_estimators': 200},\n",
       "  {'max_depth': None,\n",
       "   'max_features': 0.05,\n",
       "   'min_samples_split': 0.01,\n",
       "   'n_estimators': 300},\n",
       "  {'max_depth': None,\n",
       "   'max_features': 0.05,\n",
       "   'min_samples_split': 0.01,\n",
       "   'n_estimators': 400},\n",
       "  {'max_depth': None,\n",
       "   'max_features': 0.1,\n",
       "   'min_samples_split': 0.005,\n",
       "   'n_estimators': 100},\n",
       "  {'max_depth': None,\n",
       "   'max_features': 0.1,\n",
       "   'min_samples_split': 0.005,\n",
       "   'n_estimators': 200},\n",
       "  {'max_depth': None,\n",
       "   'max_features': 0.1,\n",
       "   'min_samples_split': 0.005,\n",
       "   'n_estimators': 300},\n",
       "  {'max_depth': None,\n",
       "   'max_features': 0.1,\n",
       "   'min_samples_split': 0.005,\n",
       "   'n_estimators': 400},\n",
       "  {'max_depth': None,\n",
       "   'max_features': 0.1,\n",
       "   'min_samples_split': 0.01,\n",
       "   'n_estimators': 100},\n",
       "  {'max_depth': None,\n",
       "   'max_features': 0.1,\n",
       "   'min_samples_split': 0.01,\n",
       "   'n_estimators': 200},\n",
       "  {'max_depth': None,\n",
       "   'max_features': 0.1,\n",
       "   'min_samples_split': 0.01,\n",
       "   'n_estimators': 300},\n",
       "  {'max_depth': None,\n",
       "   'max_features': 0.1,\n",
       "   'min_samples_split': 0.01,\n",
       "   'n_estimators': 400},\n",
       "  {'max_depth': 5,\n",
       "   'max_features': 0.05,\n",
       "   'min_samples_split': 0.005,\n",
       "   'n_estimators': 100},\n",
       "  {'max_depth': 5,\n",
       "   'max_features': 0.05,\n",
       "   'min_samples_split': 0.005,\n",
       "   'n_estimators': 200},\n",
       "  {'max_depth': 5,\n",
       "   'max_features': 0.05,\n",
       "   'min_samples_split': 0.005,\n",
       "   'n_estimators': 300},\n",
       "  {'max_depth': 5,\n",
       "   'max_features': 0.05,\n",
       "   'min_samples_split': 0.005,\n",
       "   'n_estimators': 400},\n",
       "  {'max_depth': 5,\n",
       "   'max_features': 0.05,\n",
       "   'min_samples_split': 0.01,\n",
       "   'n_estimators': 100},\n",
       "  {'max_depth': 5,\n",
       "   'max_features': 0.05,\n",
       "   'min_samples_split': 0.01,\n",
       "   'n_estimators': 200},\n",
       "  {'max_depth': 5,\n",
       "   'max_features': 0.05,\n",
       "   'min_samples_split': 0.01,\n",
       "   'n_estimators': 300},\n",
       "  {'max_depth': 5,\n",
       "   'max_features': 0.05,\n",
       "   'min_samples_split': 0.01,\n",
       "   'n_estimators': 400},\n",
       "  {'max_depth': 5,\n",
       "   'max_features': 0.1,\n",
       "   'min_samples_split': 0.005,\n",
       "   'n_estimators': 100},\n",
       "  {'max_depth': 5,\n",
       "   'max_features': 0.1,\n",
       "   'min_samples_split': 0.005,\n",
       "   'n_estimators': 200},\n",
       "  {'max_depth': 5,\n",
       "   'max_features': 0.1,\n",
       "   'min_samples_split': 0.005,\n",
       "   'n_estimators': 300},\n",
       "  {'max_depth': 5,\n",
       "   'max_features': 0.1,\n",
       "   'min_samples_split': 0.005,\n",
       "   'n_estimators': 400},\n",
       "  {'max_depth': 5,\n",
       "   'max_features': 0.1,\n",
       "   'min_samples_split': 0.01,\n",
       "   'n_estimators': 100},\n",
       "  {'max_depth': 5,\n",
       "   'max_features': 0.1,\n",
       "   'min_samples_split': 0.01,\n",
       "   'n_estimators': 200},\n",
       "  {'max_depth': 5,\n",
       "   'max_features': 0.1,\n",
       "   'min_samples_split': 0.01,\n",
       "   'n_estimators': 300},\n",
       "  {'max_depth': 5,\n",
       "   'max_features': 0.1,\n",
       "   'min_samples_split': 0.01,\n",
       "   'n_estimators': 400}],\n",
       " 'split0_test_score': array([0.7037037 , 0.7037037 , 0.74074074, 0.66666667, 0.74074074,\n",
       "        0.74074074, 0.66666667, 0.7037037 , 0.66666667, 0.66666667,\n",
       "        0.74074074, 0.66666667, 0.62962963, 0.7037037 , 0.7037037 ,\n",
       "        0.66666667, 0.66666667, 0.74074074, 0.85185185, 0.74074074,\n",
       "        0.7037037 , 0.77777778, 0.7037037 , 0.77777778, 0.7037037 ,\n",
       "        0.7037037 , 0.7037037 , 0.77777778, 0.66666667, 0.85185185,\n",
       "        0.74074074, 0.7037037 ]),\n",
       " 'split1_test_score': array([0.74074074, 0.74074074, 0.66666667, 0.77777778, 0.74074074,\n",
       "        0.74074074, 0.74074074, 0.77777778, 0.74074074, 0.74074074,\n",
       "        0.7037037 , 0.74074074, 0.74074074, 0.74074074, 0.74074074,\n",
       "        0.77777778, 0.62962963, 0.66666667, 0.66666667, 0.66666667,\n",
       "        0.62962963, 0.66666667, 0.66666667, 0.66666667, 0.66666667,\n",
       "        0.66666667, 0.66666667, 0.66666667, 0.7037037 , 0.66666667,\n",
       "        0.7037037 , 0.66666667]),\n",
       " 'split2_test_score': array([0.77777778, 0.81481481, 0.77777778, 0.81481481, 0.88888889,\n",
       "        0.88888889, 0.81481481, 0.81481481, 0.81481481, 0.81481481,\n",
       "        0.85185185, 0.85185185, 0.81481481, 0.81481481, 0.88888889,\n",
       "        0.81481481, 0.81481481, 0.85185185, 0.81481481, 0.81481481,\n",
       "        0.77777778, 0.88888889, 0.85185185, 0.85185185, 0.85185185,\n",
       "        0.81481481, 0.81481481, 0.77777778, 0.81481481, 0.81481481,\n",
       "        0.85185185, 0.85185185]),\n",
       " 'split3_test_score': array([0.65384615, 0.61538462, 0.65384615, 0.69230769, 0.65384615,\n",
       "        0.65384615, 0.73076923, 0.65384615, 0.65384615, 0.69230769,\n",
       "        0.69230769, 0.73076923, 0.69230769, 0.73076923, 0.69230769,\n",
       "        0.65384615, 0.61538462, 0.69230769, 0.65384615, 0.65384615,\n",
       "        0.69230769, 0.69230769, 0.69230769, 0.65384615, 0.61538462,\n",
       "        0.65384615, 0.73076923, 0.69230769, 0.61538462, 0.61538462,\n",
       "        0.65384615, 0.61538462]),\n",
       " 'mean_test_score': array([0.71901709, 0.71866097, 0.70975783, 0.73789174, 0.75605413,\n",
       "        0.75605413, 0.73824786, 0.73753561, 0.71901709, 0.72863248,\n",
       "        0.747151  , 0.74750712, 0.71937322, 0.74750712, 0.75641026,\n",
       "        0.72827635, 0.68162393, 0.73789174, 0.74679487, 0.71901709,\n",
       "        0.7008547 , 0.75641026, 0.72863248, 0.73753561, 0.70940171,\n",
       "        0.70975783, 0.7289886 , 0.72863248, 0.70014245, 0.73717949,\n",
       "        0.73753561, 0.70940171]),\n",
       " 'std_test_score': array([0.04584345, 0.07180321, 0.05140432, 0.06053712, 0.08449932,\n",
       "        0.08449932, 0.05255595, 0.06272964, 0.06449213, 0.05642087,\n",
       "        0.06304525, 0.06661258, 0.06773501, 0.04115521, 0.07855451,\n",
       "        0.06941704, 0.0791432 , 0.0709682 , 0.08764085, 0.06449213,\n",
       "        0.05261021, 0.08684787, 0.07239425, 0.08172204, 0.0880199 ,\n",
       "        0.06335729, 0.05452673, 0.04997443, 0.07325802, 0.09872062,\n",
       "        0.07284744, 0.0880199 ]),\n",
       " 'rank_test_score': array([22, 25, 26, 11,  3,  3,  9, 12, 22, 17,  7,  5, 21,  6,  1, 20, 32,\n",
       "        10,  8, 22, 30,  1, 17, 12, 28, 26, 16, 17, 31, 15, 12, 28])}"
      ]
     },
     "execution_count": 257,
     "metadata": {},
     "output_type": "execute_result"
    }
   ],
   "source": [
    "tuned_RF.cv_results_"
   ]
  },
  {
   "cell_type": "markdown",
   "metadata": {},
   "source": [
    "**Extraigamos y ordenemos los resultados**"
   ]
  },
  {
   "cell_type": "code",
   "execution_count": 282,
   "metadata": {},
   "outputs": [],
   "source": [
    "\n",
    "def GS_results2pandas(tuned_GS):\n",
    "    # La media de la métrica escogida (del CV) para cada combinación de parámetros\n",
    "    means = tuned_GS.cv_results_['mean_test_score']\n",
    "    # La desviación estandar de la métrica escogida (del CV) para cada combinación\n",
    "    stds = tuned_GS.cv_results_['std_test_score']\n",
    "\n",
    "\n",
    "    # Inicializamos un dataframe\n",
    "    #   > Instancias igual al número de combinaciones de parámetros\n",
    "    #   > Las columnas serán la \"media de la métrica para el CV\", \"la desviación de la métrica\"\n",
    "    #      y cada uno de los hiperparámetros\n",
    "\n",
    "    gridCV_results_pd = pd.DataFrame([], index=np.arange(len(means)), \n",
    "                                     columns=['mean_score', 'std_score'] + list(tuned_GS.cv_results_['params'][0].keys()) )\n",
    "\n",
    "    # 'tuned_RF.cv_results_['params'][0].keys()' es equivalente a *tuned_parameters.keys()*\n",
    "\n",
    "\n",
    "    # Vayamos por cada valor de interes para volcarlo todo al pandas de resultados\n",
    "    current_row = 0\n",
    "    for mean, std, params in zip(means, stds, tuned_GS.cv_results_['params']):\n",
    "\n",
    "        # Añadimos el resultado de la métrica (Accuracy, ...)\n",
    "        gridCV_results_pd.loc[current_row, 'mean_score'] = mean\n",
    "        gridCV_results_pd.loc[current_row, 'std_score']  = std\n",
    "\n",
    "        # Añadimos los hiperparámetros \n",
    "        for col in params.keys():\n",
    "            gridCV_results_pd.loc[current_row, col] = params[col] \n",
    "\n",
    "        #print(\"%0.3f (+/-%0.03f) for %r\" % (mean, std * 2, params))\n",
    "        #print(\"\")\n",
    "        # Siguiente fila (combinación de parámetros)\n",
    "        current_row += 1\n",
    "    return(gridCV_results_pd.sort_values(by=['mean_score', 'std_score'],ascending=[False, True]))"
   ]
  },
  {
   "cell_type": "code",
   "execution_count": 283,
   "metadata": {
    "scrolled": false
   },
   "outputs": [
    {
     "data": {
      "text/html": [
       "<div>\n",
       "<style scoped>\n",
       "    .dataframe tbody tr th:only-of-type {\n",
       "        vertical-align: middle;\n",
       "    }\n",
       "\n",
       "    .dataframe tbody tr th {\n",
       "        vertical-align: top;\n",
       "    }\n",
       "\n",
       "    .dataframe thead th {\n",
       "        text-align: right;\n",
       "    }\n",
       "</style>\n",
       "<table border=\"1\" class=\"dataframe\">\n",
       "  <thead>\n",
       "    <tr style=\"text-align: right;\">\n",
       "      <th></th>\n",
       "      <th>mean_score</th>\n",
       "      <th>std_score</th>\n",
       "      <th>max_depth</th>\n",
       "      <th>max_features</th>\n",
       "      <th>min_samples_split</th>\n",
       "      <th>n_estimators</th>\n",
       "    </tr>\n",
       "  </thead>\n",
       "  <tbody>\n",
       "    <tr>\n",
       "      <td>14</td>\n",
       "      <td>0.813123</td>\n",
       "      <td>0.0456962</td>\n",
       "      <td>None</td>\n",
       "      <td>0.1</td>\n",
       "      <td>0.01</td>\n",
       "      <td>300</td>\n",
       "    </tr>\n",
       "    <tr>\n",
       "      <td>0</td>\n",
       "      <td>0.807171</td>\n",
       "      <td>0.054977</td>\n",
       "      <td>None</td>\n",
       "      <td>0.05</td>\n",
       "      <td>0.005</td>\n",
       "      <td>100</td>\n",
       "    </tr>\n",
       "    <tr>\n",
       "      <td>4</td>\n",
       "      <td>0.795681</td>\n",
       "      <td>0.0434759</td>\n",
       "      <td>None</td>\n",
       "      <td>0.05</td>\n",
       "      <td>0.01</td>\n",
       "      <td>100</td>\n",
       "    </tr>\n",
       "    <tr>\n",
       "      <td>1</td>\n",
       "      <td>0.795543</td>\n",
       "      <td>0.0405937</td>\n",
       "      <td>None</td>\n",
       "      <td>0.05</td>\n",
       "      <td>0.005</td>\n",
       "      <td>200</td>\n",
       "    </tr>\n",
       "    <tr>\n",
       "      <td>10</td>\n",
       "      <td>0.789729</td>\n",
       "      <td>0.0355635</td>\n",
       "      <td>None</td>\n",
       "      <td>0.1</td>\n",
       "      <td>0.005</td>\n",
       "      <td>300</td>\n",
       "    </tr>\n",
       "    <tr>\n",
       "      <td>5</td>\n",
       "      <td>0.789729</td>\n",
       "      <td>0.0455632</td>\n",
       "      <td>None</td>\n",
       "      <td>0.05</td>\n",
       "      <td>0.01</td>\n",
       "      <td>200</td>\n",
       "    </tr>\n",
       "    <tr>\n",
       "      <td>6</td>\n",
       "      <td>0.789729</td>\n",
       "      <td>0.0585499</td>\n",
       "      <td>None</td>\n",
       "      <td>0.05</td>\n",
       "      <td>0.01</td>\n",
       "      <td>300</td>\n",
       "    </tr>\n",
       "    <tr>\n",
       "      <td>7</td>\n",
       "      <td>0.789729</td>\n",
       "      <td>0.0585499</td>\n",
       "      <td>None</td>\n",
       "      <td>0.05</td>\n",
       "      <td>0.01</td>\n",
       "      <td>400</td>\n",
       "    </tr>\n",
       "    <tr>\n",
       "      <td>3</td>\n",
       "      <td>0.78959</td>\n",
       "      <td>0.0361144</td>\n",
       "      <td>None</td>\n",
       "      <td>0.05</td>\n",
       "      <td>0.005</td>\n",
       "      <td>400</td>\n",
       "    </tr>\n",
       "    <tr>\n",
       "      <td>9</td>\n",
       "      <td>0.78959</td>\n",
       "      <td>0.0361144</td>\n",
       "      <td>None</td>\n",
       "      <td>0.1</td>\n",
       "      <td>0.005</td>\n",
       "      <td>200</td>\n",
       "    </tr>\n",
       "    <tr>\n",
       "      <td>15</td>\n",
       "      <td>0.78959</td>\n",
       "      <td>0.0361144</td>\n",
       "      <td>None</td>\n",
       "      <td>0.1</td>\n",
       "      <td>0.01</td>\n",
       "      <td>400</td>\n",
       "    </tr>\n",
       "    <tr>\n",
       "      <td>12</td>\n",
       "      <td>0.78959</td>\n",
       "      <td>0.0429545</td>\n",
       "      <td>None</td>\n",
       "      <td>0.1</td>\n",
       "      <td>0.01</td>\n",
       "      <td>100</td>\n",
       "    </tr>\n",
       "    <tr>\n",
       "      <td>2</td>\n",
       "      <td>0.783915</td>\n",
       "      <td>0.0520287</td>\n",
       "      <td>None</td>\n",
       "      <td>0.05</td>\n",
       "      <td>0.005</td>\n",
       "      <td>300</td>\n",
       "    </tr>\n",
       "    <tr>\n",
       "      <td>13</td>\n",
       "      <td>0.783776</td>\n",
       "      <td>0.0291882</td>\n",
       "      <td>None</td>\n",
       "      <td>0.1</td>\n",
       "      <td>0.01</td>\n",
       "      <td>200</td>\n",
       "    </tr>\n",
       "    <tr>\n",
       "      <td>8</td>\n",
       "      <td>0.783776</td>\n",
       "      <td>0.0407823</td>\n",
       "      <td>None</td>\n",
       "      <td>0.1</td>\n",
       "      <td>0.005</td>\n",
       "      <td>100</td>\n",
       "    </tr>\n",
       "    <tr>\n",
       "      <td>11</td>\n",
       "      <td>0.777962</td>\n",
       "      <td>0.0471695</td>\n",
       "      <td>None</td>\n",
       "      <td>0.1</td>\n",
       "      <td>0.005</td>\n",
       "      <td>400</td>\n",
       "    </tr>\n",
       "    <tr>\n",
       "      <td>20</td>\n",
       "      <td>0.760659</td>\n",
       "      <td>0.0489029</td>\n",
       "      <td>5</td>\n",
       "      <td>0.05</td>\n",
       "      <td>0.01</td>\n",
       "      <td>100</td>\n",
       "    </tr>\n",
       "    <tr>\n",
       "      <td>31</td>\n",
       "      <td>0.754845</td>\n",
       "      <td>0.0518116</td>\n",
       "      <td>5</td>\n",
       "      <td>0.1</td>\n",
       "      <td>0.01</td>\n",
       "      <td>400</td>\n",
       "    </tr>\n",
       "    <tr>\n",
       "      <td>19</td>\n",
       "      <td>0.754707</td>\n",
       "      <td>0.0404056</td>\n",
       "      <td>5</td>\n",
       "      <td>0.05</td>\n",
       "      <td>0.005</td>\n",
       "      <td>400</td>\n",
       "    </tr>\n",
       "    <tr>\n",
       "      <td>23</td>\n",
       "      <td>0.748893</td>\n",
       "      <td>0.0430854</td>\n",
       "      <td>5</td>\n",
       "      <td>0.05</td>\n",
       "      <td>0.01</td>\n",
       "      <td>400</td>\n",
       "    </tr>\n",
       "    <tr>\n",
       "      <td>26</td>\n",
       "      <td>0.748893</td>\n",
       "      <td>0.0430854</td>\n",
       "      <td>5</td>\n",
       "      <td>0.1</td>\n",
       "      <td>0.005</td>\n",
       "      <td>300</td>\n",
       "    </tr>\n",
       "    <tr>\n",
       "      <td>27</td>\n",
       "      <td>0.748893</td>\n",
       "      <td>0.0430854</td>\n",
       "      <td>5</td>\n",
       "      <td>0.1</td>\n",
       "      <td>0.005</td>\n",
       "      <td>400</td>\n",
       "    </tr>\n",
       "    <tr>\n",
       "      <td>18</td>\n",
       "      <td>0.748754</td>\n",
       "      <td>0.0329594</td>\n",
       "      <td>5</td>\n",
       "      <td>0.05</td>\n",
       "      <td>0.005</td>\n",
       "      <td>300</td>\n",
       "    </tr>\n",
       "    <tr>\n",
       "      <td>25</td>\n",
       "      <td>0.74294</td>\n",
       "      <td>0.0311517</td>\n",
       "      <td>5</td>\n",
       "      <td>0.1</td>\n",
       "      <td>0.005</td>\n",
       "      <td>200</td>\n",
       "    </tr>\n",
       "    <tr>\n",
       "      <td>21</td>\n",
       "      <td>0.74294</td>\n",
       "      <td>0.0352256</td>\n",
       "      <td>5</td>\n",
       "      <td>0.05</td>\n",
       "      <td>0.01</td>\n",
       "      <td>200</td>\n",
       "    </tr>\n",
       "    <tr>\n",
       "      <td>22</td>\n",
       "      <td>0.74294</td>\n",
       "      <td>0.0352256</td>\n",
       "      <td>5</td>\n",
       "      <td>0.05</td>\n",
       "      <td>0.01</td>\n",
       "      <td>300</td>\n",
       "    </tr>\n",
       "    <tr>\n",
       "      <td>30</td>\n",
       "      <td>0.737126</td>\n",
       "      <td>0.0280523</td>\n",
       "      <td>5</td>\n",
       "      <td>0.1</td>\n",
       "      <td>0.01</td>\n",
       "      <td>300</td>\n",
       "    </tr>\n",
       "    <tr>\n",
       "      <td>16</td>\n",
       "      <td>0.737126</td>\n",
       "      <td>0.0325169</td>\n",
       "      <td>5</td>\n",
       "      <td>0.05</td>\n",
       "      <td>0.005</td>\n",
       "      <td>100</td>\n",
       "    </tr>\n",
       "    <tr>\n",
       "      <td>24</td>\n",
       "      <td>0.731451</td>\n",
       "      <td>0.0489117</td>\n",
       "      <td>5</td>\n",
       "      <td>0.1</td>\n",
       "      <td>0.005</td>\n",
       "      <td>100</td>\n",
       "    </tr>\n",
       "    <tr>\n",
       "      <td>17</td>\n",
       "      <td>0.725498</td>\n",
       "      <td>0.0360388</td>\n",
       "      <td>5</td>\n",
       "      <td>0.05</td>\n",
       "      <td>0.005</td>\n",
       "      <td>200</td>\n",
       "    </tr>\n",
       "    <tr>\n",
       "      <td>28</td>\n",
       "      <td>0.713732</td>\n",
       "      <td>0.0323103</td>\n",
       "      <td>5</td>\n",
       "      <td>0.1</td>\n",
       "      <td>0.01</td>\n",
       "      <td>100</td>\n",
       "    </tr>\n",
       "    <tr>\n",
       "      <td>29</td>\n",
       "      <td>0.713594</td>\n",
       "      <td>0.0170367</td>\n",
       "      <td>5</td>\n",
       "      <td>0.1</td>\n",
       "      <td>0.01</td>\n",
       "      <td>200</td>\n",
       "    </tr>\n",
       "  </tbody>\n",
       "</table>\n",
       "</div>"
      ],
      "text/plain": [
       "   mean_score  std_score max_depth max_features min_samples_split n_estimators\n",
       "14   0.813123  0.0456962      None          0.1              0.01          300\n",
       "0    0.807171   0.054977      None         0.05             0.005          100\n",
       "4    0.795681  0.0434759      None         0.05              0.01          100\n",
       "1    0.795543  0.0405937      None         0.05             0.005          200\n",
       "10   0.789729  0.0355635      None          0.1             0.005          300\n",
       "5    0.789729  0.0455632      None         0.05              0.01          200\n",
       "6    0.789729  0.0585499      None         0.05              0.01          300\n",
       "7    0.789729  0.0585499      None         0.05              0.01          400\n",
       "3     0.78959  0.0361144      None         0.05             0.005          400\n",
       "9     0.78959  0.0361144      None          0.1             0.005          200\n",
       "15    0.78959  0.0361144      None          0.1              0.01          400\n",
       "12    0.78959  0.0429545      None          0.1              0.01          100\n",
       "2    0.783915  0.0520287      None         0.05             0.005          300\n",
       "13   0.783776  0.0291882      None          0.1              0.01          200\n",
       "8    0.783776  0.0407823      None          0.1             0.005          100\n",
       "11   0.777962  0.0471695      None          0.1             0.005          400\n",
       "20   0.760659  0.0489029         5         0.05              0.01          100\n",
       "31   0.754845  0.0518116         5          0.1              0.01          400\n",
       "19   0.754707  0.0404056         5         0.05             0.005          400\n",
       "23   0.748893  0.0430854         5         0.05              0.01          400\n",
       "26   0.748893  0.0430854         5          0.1             0.005          300\n",
       "27   0.748893  0.0430854         5          0.1             0.005          400\n",
       "18   0.748754  0.0329594         5         0.05             0.005          300\n",
       "25    0.74294  0.0311517         5          0.1             0.005          200\n",
       "21    0.74294  0.0352256         5         0.05              0.01          200\n",
       "22    0.74294  0.0352256         5         0.05              0.01          300\n",
       "30   0.737126  0.0280523         5          0.1              0.01          300\n",
       "16   0.737126  0.0325169         5         0.05             0.005          100\n",
       "24   0.731451  0.0489117         5          0.1             0.005          100\n",
       "17   0.725498  0.0360388         5         0.05             0.005          200\n",
       "28   0.713732  0.0323103         5          0.1              0.01          100\n",
       "29   0.713594  0.0170367         5          0.1              0.01          200"
      ]
     },
     "execution_count": 283,
     "metadata": {},
     "output_type": "execute_result"
    }
   ],
   "source": [
    "GS_results2pandas(tuned_RF)"
   ]
  },
  {
   "cell_type": "code",
   "execution_count": 287,
   "metadata": {},
   "outputs": [
    {
     "data": {
      "text/plain": [
       "RandomForestClassifier(max_features=0.1, min_samples_split=0.01,\n",
       "                       n_estimators=300)"
      ]
     },
     "execution_count": 287,
     "metadata": {},
     "output_type": "execute_result"
    }
   ],
   "source": [
    "RF_final = tuned_RF.best_estimator_\n",
    "RF_final"
   ]
  },
  {
   "cell_type": "markdown",
   "metadata": {},
   "source": [
    "¿Cuánto mejorara otro clasificador mediante esta técnica?\n",
    "\n",
    "¡Pruebalo!\n",
    "\n",
    "En la documentación aparecen los parámetros. Repite el proceso con ellos."
   ]
  },
  {
   "cell_type": "markdown",
   "metadata": {},
   "source": [
    "### Validación"
   ]
  },
  {
   "cell_type": "code",
   "execution_count": 291,
   "metadata": {
    "scrolled": false
   },
   "outputs": [
    {
     "data": {
      "image/png": "[encoded data removed]",
      "text/plain": [
       "<Figure size 432x288 with 2 Axes>"
      ]
     },
     "metadata": {
      "needs_background": "light"
     },
     "output_type": "display_data"
    }
   ],
   "source": [
    "\n",
    "predicted = RF_final.predict(X_test)\n",
    "\n",
    "disp = metrics.plot_confusion_matrix(RF_final, X_test, y_test)\n",
    "disp.figure_.suptitle(\"Confusion Matrix\")\n",
    "\n",
    "plt.show()"
   ]
  },
  {
   "cell_type": "code",
   "execution_count": 292,
   "metadata": {},
   "outputs": [
    {
     "name": "stdout",
     "output_type": "stream",
     "text": [
      "Classification report for classifier SVC(gamma=0.1):\n",
      "              precision    recall  f1-score   support\n",
      "\n",
      "           1       0.53      0.90      0.67        10\n",
      "           2       0.94      0.73      0.82        22\n",
      "           3       0.00      0.00      0.00         3\n",
      "           5       1.00      1.00      1.00         2\n",
      "           6       0.50      1.00      0.67         1\n",
      "           7       1.00      1.00      1.00         5\n",
      "\n",
      "    accuracy                           0.77        43\n",
      "   macro avg       0.66      0.77      0.69        43\n",
      "weighted avg       0.78      0.77      0.75        43\n",
      "\n",
      "\n"
     ]
    },
    {
     "name": "stderr",
     "output_type": "stream",
     "text": [
      "C:\\Users\\win10\\Anaconda3\\lib\\site-packages\\sklearn\\metrics\\_classification.py:1221: UndefinedMetricWarning: Precision and F-score are ill-defined and being set to 0.0 in labels with no predicted samples. Use `zero_division` parameter to control this behavior.\n",
      "  _warn_prf(average, modifier, msg_start, len(result))\n"
     ]
    }
   ],
   "source": [
    "print(\"Classification report for classifier %s:\\n%s\\n\"\n",
    "      % (clf_svm, metrics.classification_report(y_test, predicted)))"
   ]
  },
  {
   "cell_type": "code",
   "execution_count": null,
   "metadata": {},
   "outputs": [],
   "source": []
  }
 ],
 "metadata": {
  "kernelspec": {
   "display_name": "Python 3",
   "language": "python",
   "name": "python3"
  },
  "language_info": {
   "codemirror_mode": {
    "name": "ipython",
    "version": 3
   },
   "file_extension": ".py",
   "mimetype": "text/x-python",
   "name": "python",
   "nbconvert_exporter": "python",
   "pygments_lexer": "ipython3",
   "version": "3.7.4"
  }
 },
 "nbformat": 4,
 "nbformat_minor": 2
}
