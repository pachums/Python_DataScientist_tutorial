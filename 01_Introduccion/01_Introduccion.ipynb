{
 "cells": [
  {
   "cell_type": "markdown",
   "metadata": {},
   "source": [
    "# Introducción a Python"
   ]
  },
  {
   "cell_type": "markdown",
   "metadata": {},
   "source": [
    "## 1- Python en modo interprete (calculadora)\n",
    "\n",
    " - En jupyter notebooks escribimos código en cada **celda**.\n",
    " - Hay celdas de tipo **código** y tipo **texto**.\n",
    " - Lo ejecutamos con **ctrl + Intro**"
   ]
  },
  {
   "cell_type": "code",
   "execution_count": null,
   "metadata": {},
   "outputs": [],
   "source": [
    "2+3"
   ]
  },
  {
   "cell_type": "code",
   "execution_count": null,
   "metadata": {},
   "outputs": [],
   "source": [
    "2**3"
   ]
  },
  {
   "cell_type": "code",
   "execution_count": null,
   "metadata": {},
   "outputs": [],
   "source": [
    "( (1+8)**(1/2) )*0.25"
   ]
  },
  {
   "cell_type": "code",
   "execution_count": null,
   "metadata": {},
   "outputs": [],
   "source": [
    "'hola' + ' ' + 'mundo'"
   ]
  },
  {
   "cell_type": "code",
   "execution_count": null,
   "metadata": {},
   "outputs": [],
   "source": [
    "print('hola mundo')\n",
    "print('hola mundo'*2)\n",
    "print(\"hola mundo\"*2)"
   ]
  },
  {
   "cell_type": "markdown",
   "metadata": {},
   "source": [
    "**¿Cómo introducimos palabras entre comillas dentro de un string?**"
   ]
  },
  {
   "cell_type": "code",
   "execution_count": null,
   "metadata": {},
   "outputs": [],
   "source": [
    "print(\"hola 'mundo'\")\n",
    "print('hola \\'mundo\\'')"
   ]
  },
  {
   "cell_type": "code",
   "execution_count": null,
   "metadata": {},
   "outputs": [],
   "source": [
    "type(2) # Ajam, ajam! Probando, probando!\n",
    "\n",
    "# Esto es un comentario! Se ignora a la hora de ejecución (y compilación).\n",
    "\n",
    "\n",
    "\n",
    "# type nos devuelve el tipo de variable introducido"
   ]
  },
  {
   "cell_type": "code",
   "execution_count": null,
   "metadata": {},
   "outputs": [],
   "source": [
    "print('Hay 4 tipos de variables básicas en Python:')\n",
    "print('\\t - int: variable de número entero (integer)')\n",
    "print('\\t - float: variable de número real (float point)')\n",
    "print('\\t - str: variable string, de carácteres de texto (string)')\n",
    "print('\\t - bool: variable binaria, True o False (boolean)')\n",
    "print()\n",
    "print('Estos tipos de variable pueden asignarse a nombres, para trabajar en modo \\'compinador\\'')\n",
    "\n",
    "# Aquí estamos devolviendo en la pantalla la explicación de las variables\n",
    "#  básicas de Python... quizá un poco aburrido ;)\n",
    "\n",
    "print('\\n \\'print()\\' devuelve en la pantalla variables de tipo str, int, float, bool.')"
   ]
  },
  {
   "cell_type": "code",
   "execution_count": null,
   "metadata": {},
   "outputs": [],
   "source": [
    "este_curso_es_de_python = True\n",
    "print(este_curso_es_de_python)"
   ]
  },
  {
   "cell_type": "code",
   "execution_count": null,
   "metadata": {},
   "outputs": [],
   "source": [
    "#'HOLA'.lower() # Cada variable tiene su juego, lo veremos más adelante.\n",
    "'hola'.upper()"
   ]
  },
  {
   "cell_type": "code",
   "execution_count": null,
   "metadata": {},
   "outputs": [],
   "source": [
    "str(2.0) # Las variables admiten conversión"
   ]
  },
  {
   "cell_type": "code",
   "execution_count": null,
   "metadata": {},
   "outputs": [],
   "source": [
    "int(2.0) # Las variables admiten conversión"
   ]
  },
  {
   "cell_type": "markdown",
   "metadata": {},
   "source": [
    "## 2- Python en modo compilador (programación estructurada)\n",
    "\n",
    "Cada línea es una orden independiente\n",
    "\n",
    "No hace falta marcar el **final de linea**, como en otros lenguajes de programación (Matlab, Java, C)"
   ]
  },
  {
   "cell_type": "code",
   "execution_count": null,
   "metadata": {},
   "outputs": [],
   "source": [
    "a = 12\n",
    "b = 10\n",
    "c = a*b\n",
    "print(c)\n",
    "\n",
    "d = a/b\n",
    "print(d)\n",
    "\n",
    "\n",
    "e = a//b # Redondeo a número entero, hacia abajo\n",
    "print(e)\n",
    "\n",
    "f = a%b  # Resto\n",
    "print(f)\n",
    "\n",
    "\n",
    "resto = f\n",
    "cociente = e\n",
    "print(cociente*b+resto) # Igual a la variable 'a' (dividendo)\n"
   ]
  },
  {
   "cell_type": "code",
   "execution_count": null,
   "metadata": {
    "scrolled": true
   },
   "outputs": [],
   "source": [
    "#del a"
   ]
  },
  {
   "cell_type": "code",
   "execution_count": null,
   "metadata": {},
   "outputs": [],
   "source": [
    "master = 'Modelización'\n",
    "\n",
    "print(master*b)"
   ]
  },
  {
   "cell_type": "code",
   "execution_count": null,
   "metadata": {},
   "outputs": [],
   "source": [
    "curso = 2020\n",
    "print(f'El master es sobre {master} - {curso}')"
   ]
  },
  {
   "cell_type": "markdown",
   "metadata": {},
   "source": [
    "## 3 - Variables compuestas: listas, tuplas, diccionarios\n",
    "\n",
    " - Estas variables contienen un número de variables dentro de sí.\n",
    "\n",
    " - Las variables contenidas pueden ser de diferentes tipos"
   ]
  },
  {
   "cell_type": "markdown",
   "metadata": {},
   "source": [
    "### 3.1 - Listas (list)"
   ]
  },
  {
   "cell_type": "code",
   "execution_count": null,
   "metadata": {},
   "outputs": [],
   "source": [
    "numeros = [1.0, 2, 3.0, 4, 5]\n",
    "nombres = ['Gorka', 'Irene', 'Pedro', 'Ana', 'Leire']\n",
    "datos = [0, True, '1999', 3.1415]"
   ]
  },
  {
   "cell_type": "code",
   "execution_count": null,
   "metadata": {},
   "outputs": [],
   "source": [
    "type(numeros)"
   ]
  },
  {
   "cell_type": "markdown",
   "metadata": {},
   "source": [
    "Cada elemento tiene una posición asignada: 0,1,2,...\n",
    "\n",
    "Para obtener el elemento en alguna de las posiciones se utilizan corchetes '[0]'"
   ]
  },
  {
   "cell_type": "code",
   "execution_count": null,
   "metadata": {},
   "outputs": [],
   "source": [
    "print(numeros[0])\n",
    "print(nombres[3])\n",
    "datos[1:3] # Desde el elemento 1 hasta el 2"
   ]
  },
  {
   "cell_type": "markdown",
   "metadata": {},
   "source": [
    "Los valores pueden sustituirse (se dice que las listas son mutables)"
   ]
  },
  {
   "cell_type": "code",
   "execution_count": null,
   "metadata": {},
   "outputs": [],
   "source": [
    "nombres[0] = 'Calabacín'\n",
    "print(nombres) # Imprimimos toda la lista, esta se convierte a tipo string implicitamente"
   ]
  },
  {
   "cell_type": "markdown",
   "metadata": {},
   "source": [
    "El número de elementos se obtiene mediante 'len(nombres)'.\n",
    "\n",
    "Nuevos elementos pueden añadirse mediante '.append()'"
   ]
  },
  {
   "cell_type": "code",
   "execution_count": null,
   "metadata": {},
   "outputs": [],
   "source": [
    "len(nombres)"
   ]
  },
  {
   "cell_type": "code",
   "execution_count": null,
   "metadata": {},
   "outputs": [],
   "source": [
    "print(len(nombres))\n",
    "nombres.append('Gorka')\n",
    "print(len(nombres)) # Un elemento más que antes\n",
    "print(nombres)"
   ]
  },
  {
   "cell_type": "markdown",
   "metadata": {},
   "source": [
    "Las listas pueden 'pegarse' mediante el oprador de suma (+)"
   ]
  },
  {
   "cell_type": "code",
   "execution_count": null,
   "metadata": {},
   "outputs": [],
   "source": [
    "datos2 = numeros + datos\n",
    "print(datos2)"
   ]
  },
  {
   "cell_type": "markdown",
   "metadata": {},
   "source": [
    "- **más opciones: slicing, sum, listas de listas**"
   ]
  },
  {
   "cell_type": "code",
   "execution_count": null,
   "metadata": {},
   "outputs": [],
   "source": [
    "# Seleccionar elementos hasta\n",
    "datos2[1:6] # Del segundo elemento hasta el 6to (recordad: empieza de 0)"
   ]
  },
  {
   "cell_type": "code",
   "execution_count": null,
   "metadata": {},
   "outputs": [],
   "source": [
    "# Sumar elementos en la lista\n",
    "sum(datos2[1:6])"
   ]
  },
  {
   "cell_type": "code",
   "execution_count": null,
   "metadata": {},
   "outputs": [],
   "source": [
    "# Esto devuelve error\n",
    "#sum(nombres)"
   ]
  },
  {
   "cell_type": "code",
   "execution_count": null,
   "metadata": {},
   "outputs": [],
   "source": [
    "# Podemos creas listas con listas\n",
    "lista_de_listas = [datos2, datos]\n",
    "print(lista_de_listas)"
   ]
  },
  {
   "cell_type": "markdown",
   "metadata": {},
   "source": [
    "### 3.2 - Tuplas (tuple)\n",
    "\n",
    "Como las listas, pero en este caso son inmutables, las **variables que la componen no pueden alterarse**.\n",
    "\n",
    "Se utilizan los paréntesis"
   ]
  },
  {
   "cell_type": "code",
   "execution_count": null,
   "metadata": {},
   "outputs": [],
   "source": [
    "jupyter = ('J', 'U', 'P', 'Y', 'T', 'E', 'R')"
   ]
  },
  {
   "cell_type": "code",
   "execution_count": null,
   "metadata": {},
   "outputs": [],
   "source": [
    "jupyter[3]"
   ]
  },
  {
   "cell_type": "code",
   "execution_count": null,
   "metadata": {},
   "outputs": [],
   "source": [
    "jupyter[3] = 'A' # Esto nos devuelve un error (TypeError)\n",
    "#                    devido a la propiedad inmutable de las tuplas"
   ]
  },
  {
   "cell_type": "code",
   "execution_count": null,
   "metadata": {
    "scrolled": true
   },
   "outputs": [],
   "source": [
    "jupyter[3:7] + jupyter[0:3] # Esto devuelve otra tupla"
   ]
  },
  {
   "cell_type": "markdown",
   "metadata": {},
   "source": [
    "**¿En que caso utlizarias tú una lista y en cual una tupla?**"
   ]
  },
  {
   "cell_type": "markdown",
   "metadata": {},
   "source": [
    "### 3.3 - Diccionarios (dict)\n",
    "\n",
    "Es una combinación de 'llave' y 'valor', se utilizan los corchetes **'{llave: valor}'**."
   ]
  },
  {
   "cell_type": "code",
   "execution_count": null,
   "metadata": {},
   "outputs": [],
   "source": [
    "# Definimos nuestro diccionario\n",
    "constantes = {'pi': 3.14159265358979, 'phi': ( 1+5**(1/2) )/2}"
   ]
  },
  {
   "cell_type": "code",
   "execution_count": null,
   "metadata": {},
   "outputs": [],
   "source": [
    "# Accedemos al valor (value) de la llave (key) 'phi'\n",
    "constantes['phi']"
   ]
  },
  {
   "cell_type": "markdown",
   "metadata": {},
   "source": [
    "**Se pueden añadir elementos**"
   ]
  },
  {
   "cell_type": "code",
   "execution_count": null,
   "metadata": {},
   "outputs": [],
   "source": [
    "# Key  valor\n",
    "n=99999999  # Un valor muy alto, 'infinito'\n",
    "constantes['e'] = round((1+1/n)**n, 10) # Con el método round podemos redondear las decimales"
   ]
  },
  {
   "cell_type": "code",
   "execution_count": null,
   "metadata": {
    "scrolled": true
   },
   "outputs": [],
   "source": [
    "print(type(constantes))\n",
    "print(constantes)"
   ]
  },
  {
   "cell_type": "markdown",
   "metadata": {},
   "source": [
    "- **Llaves** (keys) del diccionario"
   ]
  },
  {
   "cell_type": "code",
   "execution_count": null,
   "metadata": {},
   "outputs": [],
   "source": [
    "constantes.keys()"
   ]
  },
  {
   "cell_type": "markdown",
   "metadata": {},
   "source": [
    "- **Valores** (values) del diccionario"
   ]
  },
  {
   "cell_type": "code",
   "execution_count": null,
   "metadata": {},
   "outputs": [],
   "source": [
    "# Los valores (values) del diccionario\n",
    "constantes.values()"
   ]
  },
  {
   "cell_type": "markdown",
   "metadata": {},
   "source": [
    "- **Elementos** (items) del diccionario"
   ]
  },
  {
   "cell_type": "code",
   "execution_count": null,
   "metadata": {},
   "outputs": [],
   "source": [
    "# Los elementos del diccionario\n",
    "constantes.items()"
   ]
  },
  {
   "cell_type": "markdown",
   "metadata": {},
   "source": [
    "**Ejemplo: sala de cine**\n",
    "\n",
    "El cine [Golem de la Alhondiga](https://golem.es/golemv9/cine.php?idCine=9) de Bilbo tiene una sala pequeña con **8 filas numeradas** y **5 columnas con letras**.\n",
    "\n",
    "Queremos definir una estructura que nos permita acceder a los asientos, guardar su estado y consultarlo. Éste último debe ser variable, puesto que las entradas se pondrán a la venta mañana a las 10:00."
   ]
  },
  {
   "cell_type": "code",
   "execution_count": null,
   "metadata": {},
   "outputs": [],
   "source": [
    "asientos_cine = {(1, 'A'): 'Libre', (1, 'B'): 'Libre', (1, 'C'): 'Libre', (1, 'D'): 'Libre', (1, 'E'): 'Libre',\n",
    "                 (2, 'A'): 'Libre', (2, 'B'): 'Libre', (2, 'C'): 'Libre', (2, 'D'): 'Libre', (2, 'E'): 'Libre',\n",
    "                 (3, 'A'): 'Libre', (3, 'B'): 'Libre', (3, 'C'): 'Libre', (3, 'D'): 'Libre', (3, 'E'): 'Libre',\n",
    "                 (4, 'A'): 'Libre', (4, 'B'): 'Libre', (4, 'C'): 'Libre', (4, 'D'): 'Libre', (4, 'E'): 'Libre',\n",
    "                 (5, 'A'): 'Libre', (5, 'B'): 'Libre', (5, 'C'): 'Libre', (5, 'D'): 'Libre', (5, 'E'): 'Libre',\n",
    "                 (6, 'A'): 'Libre', (6, 'B'): 'Libre', (6, 'C'): 'Libre', (6, 'D'): 'Libre', (6, 'E'): 'Libre',\n",
    "                 (7, 'A'): 'Libre', (7, 'B'): 'Libre', (7, 'C'): 'Libre', (7, 'D'): 'Libre', (7, 'E'): 'Libre',\n",
    "                 (8, 'A'): 'Libre', (8, 'B'): 'Libre', (8, 'C'): 'Libre', (8, 'D'): 'Libre', (8, 'E'): 'Libre'}"
   ]
  },
  {
   "cell_type": "code",
   "execution_count": null,
   "metadata": {},
   "outputs": [],
   "source": [
    "asientos_cine[(4,'B')]"
   ]
  },
  {
   "cell_type": "code",
   "execution_count": null,
   "metadata": {},
   "outputs": [],
   "source": [
    "asientos_cine[(4,'C')]"
   ]
  },
  {
   "cell_type": "code",
   "execution_count": null,
   "metadata": {},
   "outputs": [],
   "source": [
    "# A las 10:06 compramos dos tickets en asientos contiguos\n",
    "asientos_cine[(4,'B')] = 'Ocupado'\n",
    "asientos_cine[(4,'C')] = 'Ocupado'"
   ]
  },
  {
   "cell_type": "code",
   "execution_count": null,
   "metadata": {},
   "outputs": [],
   "source": [
    "asientos_cine"
   ]
  },
  {
   "cell_type": "markdown",
   "metadata": {},
   "source": [
    "**Vuelve a ejecutar la celda debajo de *'Consultamos la disponibilidad'*. ¿Qué ha cambiado?**"
   ]
  },
  {
   "cell_type": "markdown",
   "metadata": {},
   "source": [
    "## 4 - Estructuras de programación\n",
    "\n",
    " - Ciclos loop: **for**\n",
    " \n",
    " - Condicionales **if, elif** y **else**\n",
    " \n",
    " - Ciclos loop: **while / for**\n",
    "     - desviaciones del ciclo **(continue, break, exit)**\n"
   ]
  },
  {
   "cell_type": "markdown",
   "metadata": {},
   "source": [
    "### 4.1 - Ciclos (primeros loops)"
   ]
  },
  {
   "cell_type": "markdown",
   "metadata": {},
   "source": [
    "**¿Qué pasa si ejecutamos una y otra vez la quinta celda de la sección *4.1 - Ciclos*?**"
   ]
  },
  {
   "cell_type": "markdown",
   "metadata": {},
   "source": [
    "#### For"
   ]
  },
  {
   "cell_type": "code",
   "execution_count": null,
   "metadata": {},
   "outputs": [],
   "source": [
    "for num in [1,2,3]: # Este for recorre los elementos de la lista, asignandole sus valores a num\n",
    "    print(num)"
   ]
  },
  {
   "cell_type": "code",
   "execution_count": null,
   "metadata": {},
   "outputs": [],
   "source": [
    "number = 2\n",
    "for number in [1,2,3,4,5]: # La variable number queda asociada al último ciclo del bucle\n",
    "    print(number)\n",
    "print()\n",
    "print(number)"
   ]
  },
  {
   "cell_type": "markdown",
   "metadata": {},
   "source": [
    "**range()**\n",
    "\n",
    "nos sirve para recorrer números en loops"
   ]
  },
  {
   "cell_type": "code",
   "execution_count": null,
   "metadata": {},
   "outputs": [],
   "source": [
    "for tiempo in range(10): # Empieza en 0, termina en 9\n",
    "    print(tiempo)"
   ]
  },
  {
   "cell_type": "code",
   "execution_count": null,
   "metadata": {},
   "outputs": [],
   "source": [
    "for tiempo in range(1,11): # Empieza en 1, termina en 10\n",
    "    print(tiempo)"
   ]
  },
  {
   "cell_type": "code",
   "execution_count": null,
   "metadata": {},
   "outputs": [],
   "source": [
    "salto = 2\n",
    "for tiempo in range(1,11,salto): # Empieza en 1 y hace saltos dependiendo de la variable salto devolviendo valores menores que 11\n",
    "    print(tiempo)"
   ]
  },
  {
   "cell_type": "code",
   "execution_count": null,
   "metadata": {},
   "outputs": [],
   "source": [
    "salto = 2\n",
    "for fila in range(1,6): # los bucles pueden anidarse (nested)\n",
    "    for columna in range(1,6):\n",
    "        print(fila, columna) # Estamos utilizando 'print' con dos variables separadas por coma"
   ]
  },
  {
   "cell_type": "markdown",
   "metadata": {},
   "source": [
    "**len()**\n",
    "\n",
    "podemos utilizarlo dentro de **range**"
   ]
  },
  {
   "cell_type": "code",
   "execution_count": null,
   "metadata": {},
   "outputs": [],
   "source": [
    "filas_list = ('A', 'B', 'C', 'D') # Creamos una tupla \n",
    "\n",
    "for fila_idx in range(len(filas_list)):\n",
    "    print(fila_idx, filas_list[fila_idx]) # Imprimimos el indice y la variable asociada a esa posicion"
   ]
  },
  {
   "cell_type": "code",
   "execution_count": null,
   "metadata": {},
   "outputs": [],
   "source": [
    "butacas = list(range(1,11)) # list() convierte el rango en una lista\n",
    "print(butacas)\n",
    "\n",
    "butacas = tuple(range(1,11)) # tuple() convierte el rango en una tupla (inmutable)\n",
    "print(butacas)"
   ]
  },
  {
   "cell_type": "markdown",
   "metadata": {},
   "source": [
    " **¿Como guardarias el estado de las butacas de cada fila de un cine?**\n",
    " \n",
    "<details>\n",
    "<summary> ->Pista</summary>\n",
    "Enciclopedia\n",
    "</details>\n",
    "\n"
   ]
  },
  {
   "cell_type": "markdown",
   "metadata": {},
   "source": [
    "### 4.2 - Condicionales\n",
    "\n",
    "Ejecutar unas ordenes cuando una condición se cumple"
   ]
  },
  {
   "cell_type": "markdown",
   "metadata": {},
   "source": [
    "Las variables booleanas se establecen muchas veces mediante los operadores de condición:\n",
    "\n",
    "- '==' es igual a\n",
    "- '!=' es diferente de\n",
    "- '>=' es mayor o igual a\n",
    "- '<=' es menor o igual a\n",
    "- '>'  es mayor que, '<' es menor que"
   ]
  },
  {
   "cell_type": "markdown",
   "metadata": {},
   "source": [
    "### If"
   ]
  },
  {
   "cell_type": "code",
   "execution_count": null,
   "metadata": {},
   "outputs": [],
   "source": [
    "if este_curso_es_de_python: # Asegurate de que la celda 'In [8]' se ha ejecutado\n",
    "    print('Hey Pythoner!')"
   ]
  },
  {
   "cell_type": "code",
   "execution_count": null,
   "metadata": {},
   "outputs": [],
   "source": [
    "if 15.22222 >= 39**(1/2):\n",
    "    print('La condición se cumple.')\n",
    "else:\n",
    "    print('La condición no se cumple.')"
   ]
  },
  {
   "cell_type": "code",
   "execution_count": null,
   "metadata": {},
   "outputs": [],
   "source": [
    "if 15.22222 >= 500**(1/2):\n",
    "    print('La condición se cumple.')\n",
    "    es_mayor_o_igual = True\n",
    "else:                                        # En caso de que la expresión de arriba no se cumpla ejecuta las ordenes de debajo\n",
    "    print('La condición no se cumple.')\n",
    "    es_mayor_o_igual = False\n",
    "\n",
    "print(es_mayor_o_igual)"
   ]
  },
  {
   "cell_type": "markdown",
   "metadata": {},
   "source": [
    "**Múliples condiciones**"
   ]
  },
  {
   "cell_type": "code",
   "execution_count": null,
   "metadata": {
    "scrolled": true
   },
   "outputs": [],
   "source": [
    "orden_planetas_dict = {'Mercurio':1, 'Venus' : 2, 'Tierra': 3, 'Marte': 4, 'Júpiter': 5, 'Saturno': 6, 'Urano': 7, 'Neptuno': 8}\n",
    "\n",
    "planeta = 'Marte'\n",
    "\n",
    "if orden_planetas_dict[planeta] > orden_planetas_dict['Urano']:\n",
    "    print(planeta, 'está más lejos del sol que Urano.')\n",
    "elif orden_planetas_dict[planeta] > orden_planetas_dict['Marte']:\n",
    "    print(planeta, 'está más lejos del sol que Marte.')\n",
    "elif orden_planetas_dict[planeta] > orden_planetas_dict['Venus']:\n",
    "    print(planeta, 'está más lejos del sol que venus.')\n",
    "else:\n",
    "    print(planeta, 'está más cerca del sol que la Tierra.')\n"
   ]
  },
  {
   "cell_type": "markdown",
   "metadata": {},
   "source": [
    "Una vez se cumple una condición el resto del bloque condicional se ignora.\n",
    "\n",
    "   En este caso se imprimira un planeta más cercano al sol que el planeta especificado mediante la variable 'planeta'."
   ]
  },
  {
   "cell_type": "markdown",
   "metadata": {},
   "source": [
    "### 4.3 - Ciclos while"
   ]
  },
  {
   "cell_type": "code",
   "execution_count": null,
   "metadata": {},
   "outputs": [],
   "source": [
    "numero  = 1\n",
    "while numero < 15:\n",
    "    print(numero, numero**2) \n",
    "    numero = numero +1 # Actualizar variable"
   ]
  },
  {
   "cell_type": "code",
   "execution_count": null,
   "metadata": {},
   "outputs": [],
   "source": [
    "curso_activo = True\n",
    "mes = 10\n",
    "while curso_activo:\n",
    "    print(mes)\n",
    "    if mes > 12:\n",
    "        curso_activo = False\n",
    "    \n",
    "    mes  = mes + 1 # Actualización de variable mes\n",
    "\n",
    "print()\n",
    "print(mes)"
   ]
  },
  {
   "cell_type": "code",
   "execution_count": null,
   "metadata": {},
   "outputs": [],
   "source": [
    "# Fibonacci \n",
    "ii0 = 0\n",
    "ii1 = 1\n",
    "while ii0 < 100:\n",
    "    print(ii0)\n",
    "    ii0, ii1 = ii1, ii0+ii1 # Reasignar valores en una sola linea, sin variables auxiliares (Truco de python)"
   ]
  },
  {
   "cell_type": "code",
   "execution_count": null,
   "metadata": {},
   "outputs": [],
   "source": [
    "# Fibonacci \n",
    "ii0 = 1\n",
    "ii1 = 1\n",
    "tolerancia = 1e-12\n",
    "contador = 1\n",
    "while abs(ii1/ii0 - constantes['phi']) > tolerancia: # Asegurate de ejecutar la celda 'In [12]'\n",
    "    ii0, ii1 = ii1, ii0+ii1 # Reasignar valores en una sola linea, sin variables auxiliares (Truco de python)\n",
    "    # Contador de la serie\n",
    "    contador += 1 # Equivalente a 'contador = contador + 1'\n",
    "\n",
    "    #print(ii0, ii1, ii1/ii0)\n",
    "# Cuando el bucle termina sabemos que ha convergido    \n",
    "print(f'Se han necesitado {contador} iteraciones `para llegar a la convergencia con una tolerancia de {tolerancia}.\\n\\t {ii1}/{ii0} ~ Phi')\n",
    "    "
   ]
  },
  {
   "cell_type": "code",
   "execution_count": null,
   "metadata": {},
   "outputs": [],
   "source": [
    "import math # De esta forma importamos librerias (conjunto de codigo que podemos usar)\n",
    "# Pi (Leibniz)\n",
    "\n",
    "contador = 0\n",
    "potencia = 3\n",
    "tolerancia = 10**(-potencia)\n",
    "pi = 0\n",
    "while abs(pi - math.pi) > tolerancia:\n",
    "    signo = (-1)**(contador) # Comienza en positivo\n",
    "    pi = pi + 4*(signo*(1.0/(2*contador+1))) # Comienza en 1\n",
    "    contador += 1\n",
    "\n",
    "print(f'Se han necesitado {contador} pasos para llegar a la convergencia con una tolerancia de {tolerancia}.\\n\\t pi~{round(pi,potencia)}')\n"
   ]
  },
  {
   "cell_type": "markdown",
   "metadata": {},
   "source": [
    "**Curiosidad:** En 1949 un ENIAC fue capaz de romper el récord, obteniendo 2037 cifras decimales en 70 horas. Para esto se utilizan series de convergencia más rápidas que la de Leibniz (http://crd.lbl.gov/~dhbailey/dhbpapers/dhb-kanada.pdf). Lista de records históricos actualizada en wikipedia (https://es.wikipedia.org/wiki/N%C3%BAmero_%CF%80)."
   ]
  },
  {
   "cell_type": "markdown",
   "metadata": {},
   "source": [
    "Ordenes **break, continue y pass**."
   ]
  },
  {
   "cell_type": "code",
   "execution_count": null,
   "metadata": {},
   "outputs": [],
   "source": [
    "for ii in [0,3,1,-2,5,5,2,7,8]:\n",
    "    print(ii)\n",
    "    if ii==2: \n",
    "        break\n",
    "        \n",
    "print('El blucle ha finalizado!')"
   ]
  },
  {
   "cell_type": "code",
   "execution_count": null,
   "metadata": {
    "scrolled": true
   },
   "outputs": [],
   "source": [
    "for ii in [0,3,1,-2,5,5,2,7,8]:\n",
    "    if ii==2: \n",
    "        break\n",
    "    print(ii)\n",
    "    \n",
    "print('El blucle ha finalizado!')"
   ]
  },
  {
   "cell_type": "markdown",
   "metadata": {},
   "source": [
    "**pass** no hace nada..."
   ]
  },
  {
   "cell_type": "code",
   "execution_count": null,
   "metadata": {},
   "outputs": [],
   "source": [
    "for ii in [0,3,1,-2,5,5,2,7,8]:\n",
    "    if ii==2: \n",
    "        pass\n",
    "    print(ii)"
   ]
  },
  {
   "cell_type": "markdown",
   "metadata": {},
   "source": [
    "## 5 - Funciones\n",
    "\n",
    " - Son estructuras de código para **operaciones específicas**.\n",
    " - Se escriben **para evitar repeticiones** en el código.\n",
    "\n",
    "\n",
    " - Aportan **claridad y orden** mientras se programa y en sus futuras lecturas. (Bloques)\n",
    " - Su uso puede extenderse a otros problemas, **universalidad**.\n",
    " \n",
    " Los dos últimos puntos requieren un esfuerzo por parte de la persona programadora: nombres claros, comentarios explicativos, dividir un proceso en diferentes funciones más especificas, etc. Siempre con cierto balance entre esfuerzo y claridad.\n",
    " \n",
    " Podemos creas funciones que hagan calculos especificos, *desde simples sumas de dos números hasta procesamiento de texto/imagenes o calculos de simulaciones físicas...*"
   ]
  },
  {
   "cell_type": "code",
   "execution_count": null,
   "metadata": {},
   "outputs": [],
   "source": [
    "def hola_mundo():\n",
    "    print('hola mundo!')\n",
    "\n",
    "hola_mundo()"
   ]
  },
  {
   "cell_type": "markdown",
   "metadata": {},
   "source": [
    "### 5.1 - Variables de entrada y salida\n"
   ]
  },
  {
   "cell_type": "code",
   "execution_count": null,
   "metadata": {},
   "outputs": [],
   "source": [
    "def print_numeros_entre(a, b):\n",
    "    numero = a\n",
    "    print(f'Imprimiendo numeros entre {a} y {b}')\n",
    "    while numero+1 < b:\n",
    "        numero +=1\n",
    "        print(numero)\n",
    "\n",
    "print_numeros_entre(0,6)"
   ]
  },
  {
   "cell_type": "markdown",
   "metadata": {},
   "source": [
    "Las variables definidas dentro de una función solo se reconocen dentro de la función, son variables **locales**."
   ]
  },
  {
   "cell_type": "markdown",
   "metadata": {},
   "source": [
    "**¿Como harias esto de forma más simple? (con range)**"
   ]
  },
  {
   "cell_type": "code",
   "execution_count": null,
   "metadata": {},
   "outputs": [],
   "source": [
    "def print_numeros_entre(a,b): # a y b son variables de entrada\n",
    "    \n",
    "    # Inicializar lista vacia\n",
    "    numeros_entre_list = [] \n",
    "    \n",
    "    numero = a\n",
    "    while numero+1 < b:\n",
    "        numero +=1\n",
    "        # Añadir numero a la lista\n",
    "        numeros_entre_list.append(numero) \n",
    "    \n",
    "    # Variable a devolver (salida)\n",
    "    return(numeros_entre_list)\n"
   ]
  },
  {
   "cell_type": "code",
   "execution_count": null,
   "metadata": {
    "scrolled": true
   },
   "outputs": [],
   "source": [
    "# Llamamos tantas veces como queramos a la función, asignando su salida a una variable\n",
    "lista1 = print_numeros_entre(-6,6)\n",
    "lista2 = print_numeros_entre(100,110)\n",
    "\n",
    "# Imprimimos, para comprobar el resultado y el tipo de variable que devuelve la función\n",
    "print(lista1, type(lista1))\n",
    "print()\n",
    "print(lista2, type(lista2))"
   ]
  },
  {
   "cell_type": "markdown",
   "metadata": {},
   "source": [
    "### 5.2 - Variables de entrada opcionales\n"
   ]
  },
  {
   "cell_type": "markdown",
   "metadata": {},
   "source": [
    "**Retomando el ejemplo anterior...**\n"
   ]
  },
  {
   "cell_type": "code",
   "execution_count": null,
   "metadata": {},
   "outputs": [],
   "source": [
    "def print_numeros_entre_con_salto(a,b, salto=1): # a y b son variables de entrada, *salto* es una variable de entrada opcional\n",
    "    \n",
    "    # Inicializar lista vacia\n",
    "    numeros_entre_list = [] \n",
    "    \n",
    "    # Iniciar comienzo\n",
    "    numero = a\n",
    "    while numero+1 < b:\n",
    "        # Avanzar un paso\n",
    "        numero += salto\n",
    "        # Añadir numero a la lista\n",
    "        numeros_entre_list.append(numero) \n",
    "    \n",
    "    # Variable a devolver (salida)\n",
    "    return numeros_entre_list # Puede darse sin paréntesis \n"
   ]
  },
  {
   "cell_type": "code",
   "execution_count": null,
   "metadata": {},
   "outputs": [],
   "source": [
    "# Nuevamente... \n",
    "\n",
    "#Llamamos tantas veces como queramos a la función, asignando su salida a una variable\n",
    "lista1 = print_numeros_entre_con_salto(-6,6)\n",
    "lista2 = print_numeros_entre_con_salto(-100, 100, salto=20)\n",
    "\n",
    "# Imprimimos, para comprobar el resultado\n",
    "print(lista1)\n",
    "print()\n",
    "print(lista2)"
   ]
  },
  {
   "cell_type": "markdown",
   "metadata": {},
   "source": [
    "Las variables opcionales siempre van después de variables no opcionales\n",
    "\n",
    "- Ejemplo: \n",
    " -  (a,b,c,..., z=1)    correcto ;)\n",
    " -  (a,b,c,...,y=1,z) incorrecto :(\n",
    " \n"
   ]
  },
  {
   "cell_type": "markdown",
   "metadata": {},
   "source": [
    "**Listas de listas**\n"
   ]
  },
  {
   "cell_type": "code",
   "execution_count": null,
   "metadata": {},
   "outputs": [],
   "source": [
    "def matriz_identidad(n=10):\n",
    "    \n",
    "    # Inicializar lista\n",
    "    matriz = []\n",
    "    \n",
    "    # Avanzar por cada fila\n",
    "    for ii in range(n):\n",
    "        valores_fila = [] #\n",
    "        # Obtener valores de cada columna\n",
    "        for jj in range(n):\n",
    "            if ii == jj:\n",
    "                valores_fila.append(1.0)\n",
    "            else:\n",
    "                valores_fila.append(0.0)\n",
    "        \n",
    "        matriz.append(valores_fila) # *valores_fila* es una lista que añadimos a la lista *matriz*\n",
    "    \n",
    "    # Devolvemos la 'lista de listas'\n",
    "    return(matriz)\n",
    "                "
   ]
  },
  {
   "cell_type": "code",
   "execution_count": null,
   "metadata": {},
   "outputs": [],
   "source": [
    "matriz_identidad(n=10)"
   ]
  },
  {
   "cell_type": "markdown",
   "metadata": {},
   "source": [
    "**Funciones que llaman a otras funciones**\n"
   ]
  },
  {
   "cell_type": "code",
   "execution_count": null,
   "metadata": {},
   "outputs": [],
   "source": [
    "def condicion_unidad(tipo_matriz, ii_fila, jj_columna):\n",
    "    # Esta funcion devuelve 'True' si el elemento de fila, columna = ii_fila, jj_columna ha de ser la unidad\n",
    "    #  dependiendo del tipo de matriz que queremos, introducido mediante *tipo_matrix*\n",
    "    \n",
    "    # *tipo_matrix* es una variable de tipo string\n",
    "    #  *ii_fila* y *jj_columna* son variables de tipo entero int, especifican las coordenadas del elemento de la matriz\n",
    "    #  que queremos saber si es nula (devolver False) o no (devolver True)\n",
    "    \n",
    "\n",
    "    # Introducimos las condiciones como hemos visto anteriormente.\n",
    "    if tipo_matriz == 'identidad':\n",
    "        return(ii_fila == jj_columna)\n",
    "    elif tipo_matriz == 'triangular_inferior':\n",
    "        return(ii_fila >= jj_columna)\n",
    "    elif tipo_matriz == 'triangular_superior':\n",
    "        return(ii_fila <= jj_columna)\n",
    "    else:\n",
    "        print('No se ha introducido un *tipo_matriz* válido.')\n",
    "        return(False) # Devolvemos False por defecto\n",
    "    \n",
    "def matriz(tipo='identidad', n=10):\n",
    "    # Esta funcion devuelve una matriz cuadrada de tipo *identidad* y dimension *n*\n",
    "    # Se recorren las filas y columnas rellenandose con unos los valores necesarios,\n",
    "    #  siguiendo la función *condición_unidad*\n",
    "    \n",
    "    # Inicializar lista\n",
    "    matriz = []\n",
    "    \n",
    "    # Avanzar por cada fila\n",
    "    for ii in range(n): # ii va de 0 a  n-1\n",
    "        valores_fila = [] # Inicializar valores de la fila *ii*\n",
    "        \n",
    "        # Obtener valores de cada columna\n",
    "        for jj in range(n):\n",
    "            \n",
    "            # Dejamos el rellenado a cargo de la función *condicion_unidad* mediante este bloque condicional\n",
    "            if condicion_unidad(tipo, ii, jj): \n",
    "                valores_fila.append(1.0)\n",
    "            else:\n",
    "                valores_fila.append(0.0)\n",
    "        matriz.append(valores_fila) # *valores_fila* es una lista que añadimos a la lista *matriz*\n",
    "    \n",
    "    # Devolvemos la 'lista de listas'\n",
    "    return(matriz)"
   ]
  },
  {
   "cell_type": "code",
   "execution_count": null,
   "metadata": {},
   "outputs": [],
   "source": [
    "matriz(tipo='triangular_inferior', n=6)"
   ]
  },
  {
   "cell_type": "markdown",
   "metadata": {},
   "source": [
    " - **¿Qué te parece el nombre de la función de condición '*condicion_unidad()*' ? ¿Cómo la llamarias tú?**\n",
    "\n",
    "\n",
    " - **¿Cómo harias una función que tome dos matrices y devuelva su suma?**\n",
    "\n",
    " - **¿Qué pasaría si la función '*condición_unidad()*' estuviera dentro de la función '*matriz*'?**\n",
    "\n"
   ]
  },
  {
   "cell_type": "markdown",
   "metadata": {},
   "source": [
    "### 5.3 - Recursividad"
   ]
  },
  {
   "cell_type": "code",
   "execution_count": null,
   "metadata": {},
   "outputs": [],
   "source": [
    "def factorial(n):\n",
    "    if n == 1:\n",
    "        return(1)\n",
    "    else:\n",
    "        return(n*factorial(n-1)) # La salida requiere de una llamada de la misma función\n",
    "    \n",
    "factorial(7)"
   ]
  },
  {
   "cell_type": "markdown",
   "metadata": {},
   "source": [
    "*Nota:* Como **return** finaliza la función podemos obviar el **else**."
   ]
  },
  {
   "cell_type": "code",
   "execution_count": null,
   "metadata": {},
   "outputs": [],
   "source": [
    "def factorial(n):\n",
    "    if n == 1: return(1) # Ifs permiten la escritura en una sola linea\n",
    "    return(n*factorial(n-1)) # La salida requiere de una llamada de la misma función\n",
    "    \n",
    "factorial(7)"
   ]
  },
  {
   "cell_type": "markdown",
   "metadata": {},
   "source": [
    "### 5.4 - \\*args y \\*\\*kwargs\n",
    "\n",
    "Son variables opcionales sin nombre asociado.\n",
    "\n",
    "- **\\* args (arguments)** es una variable iterable: los valores se acceden mediante la posición del elemento. (ejemplo: lista, tuple)\n",
    "\n",
    "- **\\*\\* kargs (key arguments)** es un diccionario con *key:value* arbitrarias para la llamada de la función.\n"
   ]
  },
  {
   "cell_type": "code",
   "execution_count": null,
   "metadata": {},
   "outputs": [],
   "source": [
    "def invitados_a_la_fiezta(titulo_str, *invitados):\n",
    "    \n",
    "    print( '-'*30 + '\\n\\t'+ titulo_str + '\\n' + '-'*30)\n",
    "    for numero_invitado in range(len(invitados)):\n",
    "            print(numero_invitado+1, invitados[numero_invitado])\n",
    "    print('-'*30)\n",
    "    \n",
    "    # Añadimos un texto tan solo en el caso de que un invitado, 'Barney', asistirá a la fiesta\n",
    "    if 'Barney' in invitados:\n",
    "        print('\\n\\t¡Ponte traje!\\n')\n",
    "\n",
    "    \n",
    "lista_invitados = ['Lily', 'Ted', 'Barney', 'Marshall', 'Robin']\n",
    "invitados_a_la_fiezta('Lista de invitados',*lista_invitados)"
   ]
  },
  {
   "cell_type": "code",
   "execution_count": null,
   "metadata": {},
   "outputs": [],
   "source": [
    "invitados_a_la_fiezta('Lista de invitados', 'Mikel', 'Juan', 'Leire')"
   ]
  },
  {
   "cell_type": "code",
   "execution_count": null,
   "metadata": {},
   "outputs": [],
   "source": [
    "# Probamos a no pasar *args\n",
    "invitados_a_la_fiezta('Fiesta de Hawking')"
   ]
  },
  {
   "cell_type": "code",
   "execution_count": null,
   "metadata": {},
   "outputs": [],
   "source": [
    "def lista_invitados(titulo_str, **invitados_encargo):\n",
    "    \n",
    "    print( '-'*50 + '\\n\\t Lista de invitados y encargo \\n' + '-'*50)\n",
    "    numero_invitado = 1\n",
    "    for invitado, encargo in invitados_encargo.items():\n",
    "            print(numero_invitado,'-', invitado,'\\t', encargo)\n",
    "            numero_invitado += 1\n",
    "    \n",
    "    # Comprobamos si algún invitado traerá bebida (para esto comprobamos en los valores del diccionario asociado a los **kwargs)\n",
    "    if 'Bebida' in invitados_encargo.values():\n",
    "        print('\\n   ¡Va a ser... \\n\\t                    ... LEGENDARIO !\\n')\n",
    "\n",
    "    print('-'*50)\n",
    "    \n",
    "invitados_encargo = {'Lily': 'Tarta', 'Ted': 'Bebida', 'Barney': 'Nada', 'Marshall': 'Juegos de mesa', 'Robin': 'Sticks'}\n",
    "lista_invitados('Lista de invitados y encargo',**invitados_encargo)"
   ]
  },
  {
   "cell_type": "code",
   "execution_count": null,
   "metadata": {},
   "outputs": [],
   "source": [
    "lista_invitados('Lista de invitados y encargo', Lily='Tarta', Ted='Refrescos', Barney='Nada', Marshall='Juegos de mesa')"
   ]
  },
  {
   "cell_type": "markdown",
   "metadata": {},
   "source": [
    "# Resumen\n",
    "\n",
    "Hemos visto:\n",
    "\n",
    "- Dos diferentes **modos de programar**: \n",
    " - *Interprete*: Consiste en introducir unos ordenes sobre la marcha\n",
    " - *Compilador*: Consiste en introducir un código estructurado que será comprobado, y ejecutado secuencialmente en caso de no tener errores de escritura. Es éste el que nos interesa.\n",
    "- **Variables**\n",
    " - 4 tipos básicos: *int, float, string, boolean*\n",
    " - 3 compuestas principales: *list, tuple, dict* (Podeís mirarlo [aquí](https://docs.python.org/3/tutorial/datastructures.html))\n",
    "- **Condicionales**\n",
    " - *if, elif* y *else*\n",
    " - Su uso con condiciones definidas por operadores de condición (==, !=, >=, <=, ...)\n",
    "- **Ciclos**\n",
    " - **for** y su uso con **range()**\n",
    " - **while** y su uso con condiciones definidas por operadores de condición (==, !=, >=, <=, ...)\n",
    " - Como cambiar el curso de un ciclo mediante las ordenes **break**, **continue**\n",
    "- **Funciones**\n",
    " - Variables de **entrada** y de **salida**.\n",
    " - **Variables opcionales**\n",
    " - **Variables adicionales *args y** ****kwargs**, nombre de variable no necesariamente conocido\n",
    "- **Imprimir**\n",
    " - Formateado para impresión de diferentes variables"
   ]
  },
  {
   "cell_type": "markdown",
   "metadata": {},
   "source": [
    "# Ejercicio de ejemplo final\n",
    "\n",
    "Retomamos el ejemplo del cine Golem de la Alhondiga de Bilbao. \n",
    "\n",
    "Ahora, en vez de añadir manualmente los asientos, utilizaremos ciclos \n",
    "que iteren sobre las filas y columnas de los asientos del cine. Guardaremos\n",
    " la disponibilidad como valor de un diccionario, de forma tal que pueda ser modificada."
   ]
  },
  {
   "cell_type": "code",
   "execution_count": null,
   "metadata": {},
   "outputs": [],
   "source": [
    " # Creamos una tupla a partir del rango para las filas (1,2,3,...,8)\n",
    "filas = tuple(range(1,9))\n",
    "\n",
    "# Creamos una tupla para las columnas\n",
    "columnas = ('A', 'B', 'C', 'D', 'E') \n",
    "\n",
    "# Inicializamos el diccionario en el que almacenaremos los asientos y su estado\n",
    "asientos_cine = {} \n",
    "\n",
    "# Recorremos todas las filas\n",
    "for ii_fila in filas:\n",
    "    # Recorremos todas las columnas para la fila *ii_fila**\n",
    "    for jj_columna in columnas:\n",
    "        \n",
    "        # Creamos un elemento en el diccionario con la tupla (fila, columna) como key\n",
    "        #   y el estado 'Libre' como value\n",
    "        asientos_cine[(ii_fila, jj_columna)] = 'Libre'\n"
   ]
  },
  {
   "cell_type": "markdown",
   "metadata": {},
   "source": [
    "Ahora imprimimos el estado de cada asiento mediante otro ciclo **for**"
   ]
  },
  {
   "cell_type": "code",
   "execution_count": null,
   "metadata": {},
   "outputs": [],
   "source": [
    "if asientos_cine[(4,'B')] == 'Libre':\n",
    "    print('Ocupamos el asiento ', (4,'B'))\n",
    "    asientos_cine[(4,'B')] = 'Ocupado'\n",
    "else:\n",
    "    print('El asiento ', (4,'B'), 'está ocupado.')"
   ]
  },
  {
   "cell_type": "markdown",
   "metadata": {},
   "source": [
    "Ahora imprimimos el estado de cada asiento mediante otro ciclo **for**"
   ]
  },
  {
   "cell_type": "code",
   "execution_count": null,
   "metadata": {},
   "outputs": [],
   "source": [
    "for asiento, estado in asientos_cine.items(): \n",
    "    # Recorremos los asientos (fila, columna) y su estado, es decir, \n",
    "    #  la llave(key) y valor (value) del diccionario con el método .items()\n",
    "    \n",
    "    # Imprimimos con formato          fila                     columna\n",
    "    print(f'Asiento de la fila \\'{asiento[0]}\\' y columna \\'{asiento[1]}\\' \\t -> \\t {estado}')"
   ]
  },
  {
   "cell_type": "markdown",
   "metadata": {},
   "source": [
    "## Referencias\n",
    " - Iker y Mikel (UPV/EHU) lasaiker@fastmail.com, mikelbarrene@gmail.com"
   ]
  }
 ],
 "metadata": {
  "kernelspec": {
   "display_name": "Python 3",
   "language": "python",
   "name": "python3"
  },
  "language_info": {
   "codemirror_mode": {
    "name": "ipython",
    "version": 3
   },
   "file_extension": ".py",
   "mimetype": "text/x-python",
   "name": "python",
   "nbconvert_exporter": "python",
   "pygments_lexer": "ipython3",
   "version": "3.8.5"
  }
 },
 "nbformat": 4,
 "nbformat_minor": 2
}
