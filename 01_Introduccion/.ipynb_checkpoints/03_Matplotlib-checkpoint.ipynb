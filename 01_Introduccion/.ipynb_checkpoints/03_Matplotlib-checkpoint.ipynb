{
 "cells": [
  {
   "cell_type": "markdown",
   "metadata": {},
   "source": [
    "# Visualizaciones con Matplotlib"
   ]
  },
  {
   "cell_type": "markdown",
   "metadata": {},
   "source": [
    "El primer paso es cargar ('importar') la libreria"
   ]
  },
  {
   "cell_type": "code",
   "execution_count": 1,
   "metadata": {},
   "outputs": [],
   "source": [
    "import matplotlib.pyplot as plt"
   ]
  },
  {
   "cell_type": "markdown",
   "metadata": {},
   "source": [
    "Aquí estamos introduciendo el modulo pyplot dentro de la librería *matplotlib* y estamos renombrandola a *plt* para facilitar las llamadas a sus funciones.\n",
    "\n",
    "El módulo lo podeis encontrar \n",
    "\n",
    " - Tanto aquí: pyplot   [GitHub](https://github.com/matplotlib/matplotlib/blob/master/lib/matplotlib/pyplot.py)\n",
    "\n",
    " - Como en el directorio local (en vuestro ordenador) de librerias de anaconda, de las cuales estamos importandolo."
   ]
  },
  {
   "cell_type": "markdown",
   "metadata": {},
   "source": [
    "    \n",
    "En el mismo script (fichero .py) de *matplotlib.pyplot* encontramos la siguiente definición a modo de comentario\n",
    "\n",
    "---\n",
    "  \n",
    "    \"`matplotlib.pyplot` is a state-based interface to matplotlib. It provides\n",
    "    a MATLAB-like way of plotting.\"\n",
    "    \n",
    "---"
   ]
  },
  {
   "cell_type": "markdown",
   "metadata": {},
   "source": [
    "[¿Qué significa **state-based interface**?](https://stackoverflow.com/questions/52816131/matplotlib-pyplot-documentation-says-it-is-state-based-interface-to-matplotlib)\n",
    "\n",
    "     Básicamente que los comandos crean una figura y unos ejes, cuyo estado es actualizado/modificado/ajustado\n",
    "     secuencialmente mediante llamadas a funciones."
   ]
  },
  {
   "cell_type": "markdown",
   "metadata": {},
   "source": [
    "Añadimos numpy para facilitar las operaciones"
   ]
  },
  {
   "cell_type": "code",
   "execution_count": 2,
   "metadata": {},
   "outputs": [],
   "source": [
    "import numpy as np"
   ]
  },
  {
   "cell_type": "markdown",
   "metadata": {},
   "source": [
    "## Primer gráfico"
   ]
  },
  {
   "cell_type": "code",
   "execution_count": 3,
   "metadata": {},
   "outputs": [
    {
     "data": {
      "image/png": "[encoded data removed]",
      "text/plain": [
       "<Figure size 432x288 with 1 Axes>"
      ]
     },
     "metadata": {
      "needs_background": "light"
     },
     "output_type": "display_data"
    }
   ],
   "source": [
    "# Creando visualizaciones con Matplotlib \n",
    "#              X               Y\n",
    "plt.plot(list(range(100)), list(range(0,300,3)))\n",
    "plt.show() # Esto muestra el gráfico"
   ]
  },
  {
   "cell_type": "markdown",
   "metadata": {},
   "source": [
    "## Segundo gráfico"
   ]
  },
  {
   "cell_type": "code",
   "execution_count": 4,
   "metadata": {},
   "outputs": [
    {
     "data": {
      "image/png": "[encoded data removed]",
      "text/plain": [
       "<Figure size 432x288 with 1 Axes>"
      ]
     },
     "metadata": {
      "needs_background": "light"
     },
     "output_type": "display_data"
    }
   ],
   "source": [
    "# Datos\n",
    "X = np.array([1.1, 1.3, 1.5, 1.7, 1.9, 2.1, 2.3])\n",
    "Y1 = np.array([21.8, 21.4, 20.7, 20.5, 20.4, 19.9, 18.6])\n",
    "# Creando visualizaciones con Matplotlib \n",
    "#              X               Y\n",
    "plt.plot(X,Y1)\n",
    "plt.show() # Esto muestra el gráfico"
   ]
  },
  {
   "cell_type": "markdown",
   "metadata": {},
   "source": [
    "**Algunos detalles...**"
   ]
  },
  {
   "cell_type": "code",
   "execution_count": null,
   "metadata": {},
   "outputs": [],
   "source": [
    "# Creamos una figura y establecemos medidas del gráfico\n",
    "plt.figure(figsize=(10,4))\n",
    "\n",
    "# Establecemos el título\n",
    "plt.title('Primer gráfico con Python', fontsize=15, pad=10) # tamaño de fuente, margen con la caja de gráfico\n",
    "\n",
    "# Creamos dos listas y las convertimos a numpy.ndarray\n",
    "X = np.array([1.1, 1.3, 1.5, 1.7, 1.9, 2.1, 2.3])\n",
    "Y1 = np.array([21.8, 21.4, 20.7, 20.5, 20.4, 19.9, 18.6])\n",
    "# > Creamos la segunda curva a partir de la primera\n",
    "np.random.seed(1)\n",
    "Y2 = Y1 + np.random.random_sample(size=Y1.shape[0])\n",
    "\n",
    "# Dibujamos dos curvas\n",
    "plt.plot(X,Y1, color = 'blue', label='Linea azul', marker='s', markersize=10, alpha=0.7, zorder=1)\n",
    "plt.plot(X,Y2, color = 'red',  label='Linea roja', marker='.', markersize=13, alpha=0.7, zorder=1)\n",
    "\n",
    "# Añadimos descripción a ejes\n",
    "plt.xlabel('Tamaño (u.)')\n",
    "plt.ylabel('Extracción percentual (masa %)')\n",
    "# Añade la leyenda\n",
    "plt.legend(loc ='lower center')\n",
    "plt.show()"
   ]
  },
  {
   "cell_type": "markdown",
   "metadata": {},
   "source": [
    "## Por suerte... no hay que saberlo todo "
   ]
  },
  {
   "cell_type": "markdown",
   "metadata": {},
   "source": [
    "[MATPLOTLIB](https://matplotlib.org/index.html)\n",
    "\n",
    "En este link tenemos ejemplos muy útiles que nos pueden\n",
    "\n",
    "- **Ayudar a encontrar esa linea de código que buscamos**\n",
    "- **Inspirarnos para visualizar datos con los que estamos trabajando**"
   ]
  },
  {
   "cell_type": "code",
   "execution_count": null,
   "metadata": {},
   "outputs": [],
   "source": [
    "from IPython.display import IFrame # De esta librería se originó Jupyter Notebooks  \n",
    "# (https://en.wikipedia.org/wiki/Project_Jupyter)\n",
    "url = 'https://www.matplotlib.org'\n",
    "IFrame(url, width=950, height=300)"
   ]
  },
  {
   "cell_type": "markdown",
   "metadata": {},
   "source": [
    "\n",
    "## Tipos de gráficos\n",
    "---\n",
    "\n",
    "- Linea, scatterplot \n",
    "\n",
    "- Barras (vertical, horizontal)\n",
    "   - Stacked \n",
    "  \n",
    "   - Grouped\n",
    "   \n",
    "- Broken bar\n",
    "- Histograma\n",
    "- Pie, Donut\n",
    "- Heatmaps\n",
    "- ...\n",
    "\n",
    "---\n",
    "\n",
    "**Además esta el juego de las coordenadas**\n",
    "\n",
    "- Cilíndricas, esféricas, etc...\n",
    "\n",
    "**Además podemos hacer gráficos mútiples con combinaciones de las anteriores**\n",
    "\n",
    "- 3 gráficos independientes en 1: Scatterplot, barras y pie\n",
    "\n",
    "\n",
    "\n",
    "[Ejemplos en matplotlib](https://matplotlib.org/tutorials/introductory/sample_plots.html)"
   ]
  },
  {
   "cell_type": "markdown",
   "metadata": {},
   "source": [
    "### Barras\n",
    "---\n",
    "- vertical / [horizontal](https://matplotlib.org/api/_as_gen/matplotlib.pyplot.barh.html?highlight=barh#matplotlib.pyplot.barh)\n",
    "   - [Stacked](https://matplotlib.org/api/_as_gen/matplotlib.pyplot.bar.html?highlight=bar#matplotlib.pyplot.bar)\n",
    "  \n",
    "   - [Grouped](https://matplotlib.org/gallery/lines_bars_and_markers/barchart.html#sphx-glr-gallery-lines-bars-and-markers-barchart-py)(usando ejes, lo veremos más adelante en este notebook)"
   ]
  },
  {
   "cell_type": "markdown",
   "metadata": {},
   "source": [
    "Creamos unos datos a mano..."
   ]
  },
  {
   "cell_type": "code",
   "execution_count": null,
   "metadata": {},
   "outputs": [],
   "source": [
    "# Datos\n",
    "# > Nombre de salas\n",
    "salas_de_cine_list = ['Sala 1', 'Sala 2', 'Sala 3', 'Sala 4', 'Sala 5']\n",
    "# > Listas con valores enteros como datos para graficar\n",
    "ocupacion_media_invierno = [20, 35, 30, 35, 27]\n",
    "ocupacion_media_verano = [25, 32, 34, 20, 25]\n",
    "invierno_std = [2, 3, 4, 1, 2]\n",
    "verano_std = [3, 5, 2, 3, 3]\n",
    "\n",
    "# Parámetros\n",
    "# > Anchura de barras que mostraremos\n",
    "width = 0.35"
   ]
  },
  {
   "cell_type": "markdown",
   "metadata": {},
   "source": [
    "Y hacemos un gráfico de barras..."
   ]
  },
  {
   "cell_type": "code",
   "execution_count": null,
   "metadata": {},
   "outputs": [],
   "source": [
    "# Gráfico de barras para ocupación\n",
    "\n",
    "# Llamada a la funcion 'bar' del módulo pyplot\n",
    "#            X                         Y             anchura,    error,           etiqueta para leyenda,   color\n",
    "plt.bar(salas_de_cine_list , ocupacion_media_invierno, width, yerr=invierno_std, label='Invierno', color='blue')\n",
    "#            X                         Y             anchura,    error,      origen vertical de las barras \n",
    "plt.bar(salas_de_cine_list , ocupacion_media_verano, width, yerr=verano_std, bottom=np.array(ocupacion_media_invierno),\n",
    "#        etiqueta para leyenda,   color\n",
    "       label='Verano',            color='red')\n",
    "\n",
    "# Ajustes del gráfico\n",
    "# > Título\n",
    "plt.title('Ocupación salas de cine', fontsize=17)\n",
    "# > Leyenda de ejes horizontal y vertical\n",
    "plt.xlabel('Salas de cine', fontsize=12)\n",
    "plt.ylabel('Ocupación percentual (%)', fontsize=12)\n",
    "\n",
    "# > Leyenda de valores mostrados\n",
    "plt.legend(loc=1, ncol=2)\n",
    "#  Aquí 'loc' determina la posición de la leyenda y \n",
    "#       'ncol' determina cuantas columnas tendrá ( en este caso 2 columnas para dos elementos = 1 fila)\n",
    "\n",
    "\n",
    "# Mostrar gráfico\n",
    "plt.show()"
   ]
  },
  {
   "cell_type": "markdown",
   "metadata": {},
   "source": [
    "---\n",
    "\n",
    "¿Qué pasa si variamos **loc** en la leyenda de 1 a 9? ¿Y si ponemos por ejemplo 'lower center'?\n",
    "\n",
    "Los valores que acepta **loc** son los siguientes:\n",
    "\n",
    "\n",
    "<table class=\"docutils\" border=\"1\" style=\"margin-right:auto;margin-left:0px\">\n",
    "<colgroup>\n",
    "<col width=\"54%\">\n",
    "<col width=\"46%\">\n",
    "</colgroup>\n",
    "<thead valign=\"bottom\">\n",
    "<tr class=\"row-odd\"><th class=\"head\">Location String</th>\n",
    "<th class=\"head\">Location Code</th>\n",
    "</tr>\n",
    "</thead>\n",
    "<tbody valign=\"top\">\n",
    "<tr class=\"row-even\"><td>'best'</td>\n",
    "<td>0</td>\n",
    "</tr>\n",
    "<tr class=\"row-odd\"><td>'upper right'</td>\n",
    "<td>1</td>\n",
    "</tr>\n",
    "<tr class=\"row-even\"><td>'upper left'</td>\n",
    "<td>2</td>\n",
    "</tr>\n",
    "<tr class=\"row-odd\"><td>'lower left'</td>\n",
    "<td>3</td>\n",
    "</tr>\n",
    "<tr class=\"row-even\"><td>'lower right'</td>\n",
    "<td>4</td>\n",
    "</tr>\n",
    "<tr class=\"row-odd\"><td>'right'</td>\n",
    "<td>5</td>\n",
    "</tr>\n",
    "<tr class=\"row-even\"><td>'center left'</td>\n",
    "<td>6</td>\n",
    "</tr>\n",
    "<tr class=\"row-odd\"><td>'center right'</td>\n",
    "<td>7</td>\n",
    "</tr>\n",
    "<tr class=\"row-even\"><td>'lower center'</td>\n",
    "<td>8</td>\n",
    "</tr>\n",
    "<tr class=\"row-odd\"><td>'upper center'</td>\n",
    "<td>9</td>\n",
    "</tr>\n",
    "<tr class=\"row-even\"><td>'center'</td>\n",
    "<td>10</td>\n",
    "</tr>\n",
    "</tbody>\n",
    "</table>\n",
    "\n",
    "\n",
    "[[Referencia](https://matplotlib.org/3.1.0/api/_as_gen/matplotlib.pyplot.legend.html)]\n",
    "\n",
    "---\n"
   ]
  },
  {
   "cell_type": "markdown",
   "metadata": {},
   "source": [
    "Hacemos una variación en las que las barras que hacen referenica a los datos de verano irán hacia abajo..."
   ]
  },
  {
   "cell_type": "code",
   "execution_count": null,
   "metadata": {},
   "outputs": [],
   "source": [
    "# Gráfico de barras para ocupación\n",
    "\n",
    "# Llamada a la funcion 'bar' del módulo pyplot\n",
    "#            X                         Y             anchura,    error,  etiqueta para leyenda,   color\n",
    "plt.bar(salas_de_cine_list , ocupacion_media_invierno, width, yerr=invierno_std, label='Invierno', color='blue')\n",
    "#            X                         Y                          anchura,    error,    etiqueta para leyenda,   color       \n",
    "plt.bar(salas_de_cine_list , -np.array(ocupacion_media_verano), width, yerr=verano_std, label='Verano', color='red')\n",
    "\n",
    "# Anotación\n",
    "plt.annotate('Extreno de Harry Potter', xy=(2.2, -50), xytext=(2.5, -50),\n",
    "            arrowprops=dict(arrowstyle = \"-\"), va='center')\n",
    "\n",
    "plt.title('Ocupación salas de cine', fontsize=17)\n",
    "plt.xlabel('Salas de cine', fontsize=12)\n",
    "plt.ylabel('Ocupación percentual (%)', fontsize=12)\n",
    "\n",
    "# Cambiar valores negativos a positivos\n",
    "# > Obtenemos las posiciones y los valores marcados en el eje de ordenadas, Y.\n",
    "loc, labels = plt.yticks() \n",
    "# > Cambiamos los valores haciendo el absoluto\n",
    "plt.yticks(loc, np.absolute(np.array(loc)))\n",
    "\n",
    "# Incluimos la leyenda, que mostrará los 'label' introducidos previamente con 'plt.bar'\n",
    "plt.legend(loc=8,        # Posición dado en tipo 'int', también admite 'str' como 'lower center'\n",
    "           ncol=2,       # número de columnas en las que muestra los labels\n",
    "           framealpha=0) # transparencia del recuadro, de 0 a 1 siendo 0 transparente y 1 opaco\n",
    "\n",
    "\n",
    "# Mostramos el gráfico\n",
    "plt.show()"
   ]
  },
  {
   "cell_type": "markdown",
   "metadata": {},
   "source": [
    "Hacemos otra variante que muestre los datos de ambos periodos agrupados..."
   ]
  },
  {
   "cell_type": "code",
   "execution_count": null,
   "metadata": {},
   "outputs": [],
   "source": [
    "# El número de periodos es dos (invierno, verano)\n",
    "n_barras = 2\n",
    "# Mostramos de tal forma que la barra de invierno aparezca desplazada a la izquierda (X + width/2)\n",
    "#                            la barra de verano   aparezca desplazada a la derecha   (X + width/2)\n",
    "plt.bar(np.arange(len(salas_de_cine_list)) - width/n_barras , ocupacion_media_invierno, width, yerr=invierno_std, label='Invierno', color='blue')\n",
    "plt.bar(np.arange(len(salas_de_cine_list)) + width/n_barras , ocupacion_media_verano,   width, yerr=verano_std,   label='Verano', color='red')\n",
    "\n",
    "# Ajustes de gráfico\n",
    "# > Título\n",
    "plt.title('Ocupación salas de cine', fontsize=17)\n",
    "# > Etiqueta de ejes\n",
    "plt.xlabel('Salas de cine', fontsize=12)\n",
    "\n",
    "# > Reasignamos los marcadores del eje horizontal\n",
    "plt.xticks(range(len(salas_de_cine_list)), salas_de_cine_list)\n",
    "plt.ylabel('Ocupación percentual (%)', fontsize=12)\n",
    "\n",
    "# > Añadimos la leyenda\n",
    "plt.legend(loc='lower center', ncol=2)\n",
    "plt.show()"
   ]
  },
  {
   "cell_type": "markdown",
   "metadata": {},
   "source": [
    "### Pie y Donut\n",
    "---\n",
    "\n",
    " "
   ]
  },
  {
   "cell_type": "code",
   "execution_count": null,
   "metadata": {},
   "outputs": [],
   "source": [
    "# Datos\n",
    "# > Dias\n",
    "trimestres_list = ['Ene-Mar', 'Abr-Jun', 'Jul-Sep', 'Oct-Dic']\n",
    "# > Taquilla por trimestres\n",
    "taquilla_por_trimestre = [2500, 3500, 3500, 1000]\n"
   ]
  },
  {
   "cell_type": "code",
   "execution_count": null,
   "metadata": {},
   "outputs": [],
   "source": [
    "# Parámetros\n",
    "# > Separación del centro - introduciomos pequeño margen en todas las 'porciones'\n",
    "explode = np.repeat(0.01,4) # \n",
    "# > Colores aleatorios pero definidos por la semilla\n",
    "np.random.seed(2)\n",
    "colores = np.random.random_sample(size=(4,3))\n",
    "\n",
    "\n",
    "# GRÁFICO\n",
    "\n",
    "plt.pie(taquilla_por_trimestre, #         valores numéricos,\n",
    "        explode=explode, #                margenes de quesitos en orden,\n",
    "        labels=trimestres_list,  #        etiqueta de referencia de cada valor\n",
    "        shadow=False, #                   sombra\n",
    "        startangle=45,  #                 angulo de referencia para el primer queso\n",
    "        colors=colores) #                 colores para cada quesito\n",
    "\n",
    "# > Ajuste de gráfico\n",
    "# Título\n",
    "plt.title('Taquilla (%) 2019', fontsize=14, weight='bold')\n",
    "\n",
    "\n",
    "# Mostramos la imagen\n",
    "plt.show()"
   ]
  },
  {
   "cell_type": "markdown",
   "metadata": {},
   "source": [
    "--- \n",
    "**Cambiamos y añadimos**:\n",
    "\n",
    "- El sentido de los valores (trimestres)\n",
    "\n",
    "- Añadimos formato donut\n",
    "\n",
    "- Escribimos la taquilla total en euros en medio del donut"
   ]
  },
  {
   "cell_type": "code",
   "execution_count": null,
   "metadata": {},
   "outputs": [],
   "source": [
    "# Ajustes gráficos\n",
    "# > Separación del centro - introduciomos pequeño margen en todas las 'porciones'\n",
    "explode = np.repeat(0.01,4) # \n",
    "\n",
    "# > Colores aleatorios pero definidos por la semilla\n",
    "np.random.seed(2)\n",
    "colores = np.random.random_sample(size=(4,3))\n",
    "\n",
    "# Ploteamos\n",
    "plt.pie(taquilla_por_trimestre, #         valores numéricos,  \n",
    "        explode=explode, #                margenes de quesitos en orden, \n",
    "        labels=trimestres_list,  #        etiqueta de referencia de cada valor\n",
    "        shadow=False, #                   sombra\n",
    "        startangle=-180,  #               angulo de referencia para el primer queso\n",
    "        colors=colores, #                 colores para cada rosquito\n",
    "        wedgeprops=dict(width=0.4),#      anchura radial de los roscos en fracción (1 Pie, 0 Nada)   \n",
    "        counterclock=False)\n",
    "\n",
    "# Ajustes\n",
    "# > Título\n",
    "plt.title('Taquilla (%) 2019', fontsize=14, weight='bold')\n",
    "# > Añadimos texto\n",
    "plt.text(0,0,s=f'{sum(taquilla_por_trimestre)} €', ha='center', fontsize=10, weight='bold')\n",
    "\n",
    "# > Mostramos la imagen\n",
    "plt.show()"
   ]
  },
  {
   "cell_type": "markdown",
   "metadata": {},
   "source": [
    "¿Qué te parecen estos gráficos? ¿Crees que comunican bien la información?"
   ]
  },
  {
   "cell_type": "markdown",
   "metadata": {},
   "source": [
    "Consejos para el uso de este tipo de gráficos [aquí](https://depictdatastudio.com/when-pie-charts-are-okay-seriously-guidelines-for-using-pie-and-donut-charts/).\n",
    "\n",
    "¿Qué ves ahora que no sea del todo 'correcto'? "
   ]
  },
  {
   "cell_type": "markdown",
   "metadata": {},
   "source": [
    "---\n",
    "### Heatmap\n",
    "\n",
    "\n",
    " "
   ]
  },
  {
   "cell_type": "code",
   "execution_count": null,
   "metadata": {},
   "outputs": [],
   "source": [
    "# Generamos datos aleatorios\n",
    "np.random.seed(1) # Estableciendo semilla para replicabilidad\n",
    "matriz_de_datos = np.random.random_sample(size=(10,10))"
   ]
  },
  {
   "cell_type": "code",
   "execution_count": null,
   "metadata": {},
   "outputs": [],
   "source": [
    "# GRÁFICO\n",
    "# usamos la función imshow\n",
    "plt.imshow(matriz_de_datos, vmax=1, vmin=0, cmap='viridis')\n",
    "\n",
    "\n",
    "# Ajustes\n",
    "# > Título\n",
    "plt.title('Heatmap', fontsize=20, pad=10)\n",
    "# > Etiquetas\n",
    "plt.xlabel('Columnas', fontsize=15)\n",
    "plt.ylabel('Filas', fontsize=15)\n",
    "# > marcadores en ejes\n",
    "plt.xticks(np.array(range(10)), np.array(range(10))+1)\n",
    "plt.yticks(np.array(range(10)), [chr(97+ii).upper() for ii in range(10)])\n",
    "# > Ajustamos el rango vertical, puesto que se ve modificado por el cambio anterior\n",
    "plt.ylim(9.5,-0.5)\n",
    "\n",
    "# Barra de referencia de color y valores\n",
    "plt.colorbar()\n",
    "\n",
    "# Escribimos valor de una posición \n",
    "plt.text(0,0,s=str(round(matriz_de_datos[0,0],1)), fontsize=8, ha='center', color='white', weight='bold')\n",
    "\n",
    "# Escribir todos los valores\n",
    "#   ¿Cómo lo harías?\n",
    "\n",
    "\n",
    "# mostrarlo\n",
    "plt.show()"
   ]
  },
  {
   "cell_type": "markdown",
   "metadata": {},
   "source": [
    " - **¿Cómo mostrarías todos los valores numéricos en sus casillas correspondientes?** [Un ejemplo algo más complejo de esto](https://matplotlib.org/3.1.1/gallery/images_contours_and_fields/image_annotated_heatmap.html?highlight=heatmap)\n",
    " \n",
    " \n",
    " - **¿Cómo harías para mostrar los valores mayores que 0.5 en negro y los valores menores o iguales a 0.5 en blanco?**"
   ]
  },
  {
   "cell_type": "markdown",
   "metadata": {},
   "source": [
    "Piensa en el ejemplo del cine Golem de la alhondiga de Bilbo...\n",
    "\n",
    "Podríamos visualizar la ocupación media de cada asiento para un periodo de tiempo dado.\n"
   ]
  },
  {
   "cell_type": "markdown",
   "metadata": {},
   "source": [
    "\n",
    "## Multiples gráficos (subplots)\n",
    "\n",
    "- Utilizamos *plt.subplots* [[Documentación](https://matplotlib.org/3.1.1/api/_as_gen/matplotlib.pyplot.subplots.html#matplotlib.pyplot.subplots)]\n"
   ]
  },
  {
   "cell_type": "code",
   "execution_count": null,
   "metadata": {},
   "outputs": [],
   "source": [
    "# -----------------------------------------------------------------------------\n",
    "# Objetivo\n",
    "#                 Hacer una figura de 3x3 gráficos usando subplots\n",
    "# -----------------------------------------------------------------------------\n",
    "\n",
    "# > Creamos los puntos del eje de abscisa\n",
    "X=np.linspace(-10,10,1000)\n",
    "\n",
    "# > Creación de datos para el eje de ordenada (9 listas, una para cada subplot, y cada una de 100 elementos como X)\n",
    "# >> Usamos diccionarios\n",
    "data_dict = {}\n",
    "# >> Creamos los puntos del eje de ordenadas mediante ecuaciones del coseno.\n",
    "#     Para esto hacemos dos bucles anidados, de tres cada uno para obtener 9 valores.\n",
    "for ii in range(3):\n",
    "    for jj in range(3):\n",
    "        # Añadimos el key tupla ii,jj y su valor, un diccionario a su vez\n",
    "        data_dict[ii, jj] = {'data':  X*np.cos((ii-jj+1)*X)*np.cos((ii+jj+1)*X), # Añadimos datos,  \n",
    "                             'text': fr'$x\\cdot\\cos({ii-jj+1}x)\\cdot\\cos({ii+jj+1}x)$' } \n",
    "                                       # ecuación en formato text usando notación de LaTeX\n",
    "                                       # (usamos f para formato y r para formato LaTeX)"
   ]
  },
  {
   "cell_type": "code",
   "execution_count": null,
   "metadata": {},
   "outputs": [],
   "source": [
    "# GRÁFICO\n",
    "# > Creamos la figura y los ejes\n",
    "#                     (nfilas, ncolumnas, tamaño, ejes compartidos X)\n",
    "fig, ax = plt.subplots(3,3, figsize=(15,5), sharex = True) # Sharex comparte el eje X\n",
    "\n",
    "# Imprimimos el tipo de cada objeto, para saber con que estamos trabajando\n",
    "print(type(fig), type(ax)) \n",
    "# Esto nos da '<class 'matplotlib.figure.Figure'> <class 'numpy.ndarray'>'\n",
    "\n",
    "# Ploteamos cada par X, data_dict[ii, jj]['data']\n",
    "for ii in range(3):\n",
    "    for jj in range(3):\n",
    "        ax[ii, jj].plot(X,data_dict[ii,jj]['data'])\n",
    "        ax[ii, jj].set_title(data_dict[ii, jj]['text'])\n",
    "\n",
    "plt.suptitle('Multiples gráficos', fontsize=15)\n",
    "plt.show()"
   ]
  },
  {
   "cell_type": "markdown",
   "metadata": {},
   "source": [
    "Podemos mejorar este tipo de gráfico. \n",
    "\n",
    "Añadiremos lo siguiente:\n",
    "\n",
    " - Margen vertical entre gráficos. Vemos que los titulos se solapan con los ejes de los gráficos superiores en la fila ii=1 y ii=2 [[Gridspec](https://matplotlib.org/3.1.1/api/_as_gen/matplotlib.gridspec.GridSpec.html#matplotlib.gridspec.GridSpec)]\n",
    "   \n",
    "   \n",
    "    Esto se puede introducir mendiante 'gridspec_kw' cuando llamamos a plt.subplots(). Es una variable de entrada que se pasará después como tipo **kwargs**. Por ello, se introduce en un diccionario. El valor que nos interesa es 'hspace', la fracción de altura que se dedica a los márgenes verticales (height space).\n",
    "    \n",
    "- Añadimos el título también como label.\n",
    "\n",
    "\n",
    "    Para hacer esto se incluye 'label' en la llamada al plot y después se utiliza 'ax[ii, jj].legend()'.\n",
    "    \n",
    "- Añadimos diferentes colores a cada plot.\n",
    "\n",
    "    \n",
    "    Esto lo hacemos mediante el módulo random de la librería numpy, el método random_samples para ser exactos. Utilizaremos este método para conseguir un ndarray de 3 elementos entre 0 y 1, que viene a ser como se define un color en el espacio RGB."
   ]
  },
  {
   "cell_type": "code",
   "execution_count": null,
   "metadata": {},
   "outputs": [],
   "source": [
    "# GRÁFICO\n",
    "# > Creamos la figura y los ejes\n",
    "#                      (nfilas, ncolumnas, tamaño, ejes compartidos X,Y opción de proporciones de la cuadrícula que se usará)\n",
    "fig, ax = plt.subplots(3,3, figsize=(15,5), sharex = True, sharey=True, gridspec_kw={'hspace':0.4, 'wspace':0.2})\n",
    "# Imprimimos el tipo de cada objeto, para saber con que estamos trabajando\n",
    "#print(type(fig), type(ax))\n",
    "# Esto nos da '<class 'matplotlib.figure.Figure'> <class 'numpy.ndarray'>'\n",
    "\n",
    "# Ploteamos cada par X, data_dict[ii, jj]['data']\n",
    "for ii in range(3):\n",
    "    for jj in range(3):\n",
    "        ax[ii, jj].plot(X,data_dict[ii,jj]['data'], label = data_dict[ii,jj]['text'], color = np.random.random_sample(3))\n",
    "        ax[ii, jj].set_title(data_dict[ii, jj]['text'])\n",
    "        # Añadimos leyenda en el subplot\n",
    "        ax[ii, jj].legend(loc='lower center', fontsize=8, framealpha=0)\n",
    "\n",
    "plt.suptitle('Multiples gráficos', fontsize=15)\n",
    "plt.show()"
   ]
  },
  {
   "cell_type": "markdown",
   "metadata": {},
   "source": [
    "\n",
    "## Guardar gráficos"
   ]
  },
  {
   "cell_type": "markdown",
   "metadata": {},
   "source": [
    "\n",
    " - Usamos 'plt.savefig' para guardar las figuras. \n",
    " \n",
    " \n",
    "    Lo más habitual es hacer un gráfico y guardarlo al final.  \n",
    "    Para esto se útiliza 'plt.savefig()', capturando lo ploteado anteriormente.\n",
    "\n",
    "-  Podemos utilizar varios formatos de imagen.\n",
    "    \n",
    "    \n",
    "    png,jpg,...  -> pixels\n",
    "    pdf, svg,... -> vectoriales"
   ]
  },
  {
   "cell_type": "markdown",
   "metadata": {},
   "source": [
    "Retomando el ejemplo del heatmap..."
   ]
  },
  {
   "cell_type": "code",
   "execution_count": null,
   "metadata": {},
   "outputs": [],
   "source": [
    "# Generamos datos aleatorios\n",
    "np.random.seed(1) # Estableciendo semilla para replicabilidad\n",
    "matriz_de_datos = np.random.random_sample(size=(10,10))\n",
    "\n",
    "# Plotear\n",
    "plt.imshow(matriz_de_datos, vmax=1, vmin=0)\n",
    "\n",
    "# Título\n",
    "plt.title('Heatmap', fontsize=20, pad=10)\n",
    "\n",
    "# Leyendas\n",
    "plt.xlabel('Columnas', fontsize=15)\n",
    "plt.ylabel('Filas', fontsize=15)\n",
    "plt.xticks(np.array(range(10)), np.array(range(10))+1)\n",
    "plt.yticks(np.array(range(10)), [chr(97+ii).upper() for ii in range(10)])\n",
    "plt.ylim(9.5,-0.5)\n",
    "\n",
    "# Barra de referencia de color y valores\n",
    "plt.colorbar()\n",
    "\n",
    "# Escribimos valor de una posición \n",
    "plt.text(0, 0, s=str(round(matriz_de_datos[0,0],1)), fontsize=8, ha='center', color='white', weight='bold')\n",
    "\n",
    "# Guardamos la imagen\n",
    "plt.savefig('IMG/heatmap.png')\n",
    "plt.savefig('IMG/heatmap.pdf')\n",
    "plt.close() # Si quitáramos esto jupyter seguiría mostrando el gráfico sin haber especificado un plt.show()\n",
    "# además plt seguiría guardando la información introducida en plt y quizá al abrir el archivo el sistema operativo\n",
    "#  nos daría algún error"
   ]
  },
  {
   "cell_type": "markdown",
   "metadata": {},
   "source": [
    "\n",
    "## Pandas plot\n"
   ]
  },
  {
   "cell_type": "markdown",
   "metadata": {},
   "source": [
    "**Ejemplo: wine reviews**"
   ]
  },
  {
   "cell_type": "code",
   "execution_count": null,
   "metadata": {},
   "outputs": [],
   "source": [
    "import pandas as pd"
   ]
  },
  {
   "cell_type": "code",
   "execution_count": null,
   "metadata": {},
   "outputs": [],
   "source": [
    "wine = pd.read_csv('Data/winemag-data-130k-v2.csv', index_col=0)"
   ]
  },
  {
   "cell_type": "code",
   "execution_count": null,
   "metadata": {},
   "outputs": [],
   "source": [
    "wine.head(3)"
   ]
  },
  {
   "cell_type": "code",
   "execution_count": null,
   "metadata": {},
   "outputs": [],
   "source": [
    "wine[['points', 'price']].info()"
   ]
  },
  {
   "cell_type": "markdown",
   "metadata": {},
   "source": [
    "\n",
    "## Pandas y matplotlib: pandas.plot\n"
   ]
  },
  {
   "cell_type": "code",
   "execution_count": null,
   "metadata": {},
   "outputs": [],
   "source": [
    "# Generamos otro pandas con las columnas de interés, puntuación y precio de los vinos\n",
    "puntuacion =  wine[['country','points', 'price']].dropna(how='any', axis=0)"
   ]
  },
  {
   "cell_type": "markdown",
   "metadata": {},
   "source": [
    "**Primer ejemplo: scatter plot**"
   ]
  },
  {
   "cell_type": "code",
   "execution_count": null,
   "metadata": {},
   "outputs": [],
   "source": [
    "# Utilizamos la llamada a la clase plot de pandas\n",
    "puntuacion.plot(kind='scatter', x='points', y='price', alpha=0.2)\n",
    "# Alternativamente podríamos haber usado el método .scatter() directamente \n",
    "#   > puntuacion.plot.scatter(x='points', y='price', alpha=0.2)\n",
    "plt.title('Precio y puntuación de vinos')\n",
    "plt.ylabel('Precio ($)')\n",
    "plt.xlabel('Puntuación')\n",
    "plt.show()"
   ]
  },
  {
   "cell_type": "markdown",
   "metadata": {},
   "source": [
    "¿Qué destacarías del gráfico? \n",
    "\n",
    "¿Qué información aporta acerca de la asociación entre el precio y la puntuación dentro de la muestra que ofrece el dataset?\n",
    "\n",
    "---"
   ]
  },
  {
   "cell_type": "markdown",
   "metadata": {},
   "source": [
    "Ahora examinaremos las distribuciones de estas dos variables, cada una por su lado.\n",
    "\n",
    "Esto nos sirve como ejemplo de como el método de ***pandas*** nos **permite combinar varios gráficos\n",
    " usando *plt.subplots***."
   ]
  },
  {
   "cell_type": "code",
   "execution_count": null,
   "metadata": {},
   "outputs": [],
   "source": [
    "# Creamos figura \n",
    "fig, ax = plt.subplots(2, figsize=(10,5), gridspec_kw = {'hspace': 0.5, 'top': 0.85})\n",
    "\n",
    "# Histograma con pandas, sobre ejes de subplots\n",
    "puntuacion.hist(column='points', width = 0.5, bins = 100, grid = False, ax = ax[0]) \n",
    "puntuacion.hist(column='price', width = 3, bins = 1000, grid = False, ax = ax[1])\n",
    "# la variable 'ax' es un **kwarg del método .hist()\n",
    "\n",
    "# Establecer límites de valores en eje horizontal\n",
    "ax[0].set_xlim(70,100)\n",
    "ax[1].set_xlim(0,500)\n",
    "\n",
    "# Establecer título\n",
    "ax[0].set_title('Puntuación')\n",
    "ax[1].set_title('Precio')\n",
    "# Establecer eje vertical\n",
    "for ii in range(2):\n",
    "    ax[ii].set_ylabel('Número de vinos', fontsize=9)\n",
    "\n",
    "# Añadimos título\n",
    "plt.suptitle('Número de vinos por Puntuación y Precio')\n",
    "\n",
    "# Mostramos el gráfico\n",
    "plt.show()\n"
   ]
  },
  {
   "cell_type": "markdown",
   "metadata": {},
   "source": [
    "¿Cómo podemos hacer que en el eje horizontal se muestre la frecuencia relativa de elementos, en este caso de vinos?"
   ]
  },
  {
   "cell_type": "markdown",
   "metadata": {},
   "source": [
    "Podemos mostrar el número de vinos para el top 10."
   ]
  },
  {
   "cell_type": "code",
   "execution_count": null,
   "metadata": {},
   "outputs": [],
   "source": [
    "# Parámetros\n",
    "# > Número de paises a considerar en el ranking\n",
    "n_top  = 10\n",
    "# Usamos en este caso métodos asociados a Series\n",
    "# > Semilla para definir colores aleatorios pero replicables \n",
    "np.random.seed(10)\n",
    "# > Usamos *value_counts()* para obtener el número de entradas por pais y lo mostramos\n",
    "puntuacion['country'].value_counts().iloc[:n_top].plot.bar(color=np.random.random_sample((n_top,3)), width=0.75 )\n",
    "\n",
    "plt.title(f'Número de vinos para los {n_top} paises con más vinos')\n",
    "plt.show()"
   ]
  },
  {
   "cell_type": "code",
   "execution_count": null,
   "metadata": {},
   "outputs": [],
   "source": [
    "# Parámetros\n",
    "# > Número de paises a considerar en el ranking\n",
    "n_top  = 10\n",
    "# > Se puede hacer mediante pandas:\n",
    " # a) agrupar por país y contar instancias\n",
    " # b) ordenar filas/paises de mayor a menor y seleccionar 'precio'\n",
    " # c) seleccionar los primeros *n_top* paises y mostrar el gráfico\n",
    " # d) usar método de pandas como 'plotter'    \n",
    "# (a)                                   (b)                                                 (c)     (d)                        \n",
    "puntuacion.groupby(by='country').count().sort_values(by='price', ascending=False)[['price']].iloc[:n_top].plot.bar(legend=False, width=0.75, color='darkred')  \n",
    "# Añadir el color a cada barra no es tan sencillo como antes\n",
    "\n",
    "# > Título\n",
    "plt.title(f'Número de vinos para los {n_top} paises con más vinos')\n",
    "plt.xlabel('')\n",
    "# > Mostrar gráfico\n",
    "plt.show()"
   ]
  },
  {
   "cell_type": "markdown",
   "metadata": {},
   "source": [
    "Podemos vovler a la relación entre puntuación y precio, estudiando la transformada logarítmica del precio como una nueva variable."
   ]
  },
  {
   "cell_type": "code",
   "execution_count": null,
   "metadata": {},
   "outputs": [],
   "source": [
    "# Creamos nueva columna en el pandas\n",
    "puntuacion['price_log'] = np.log(puntuacion['price'])"
   ]
  },
  {
   "cell_type": "code",
   "execution_count": null,
   "metadata": {},
   "outputs": [],
   "source": [
    "# Hacemos el gráfico en cuestion\n",
    "puntuacion.plot(kind='scatter', x='points', y='price_log', alpha=0.05)\n",
    "# Alternativamente podríamos haber usado \n",
    "#   > puntuacion.plot.scatter(x='points', y='price', alpha=0.2)\n",
    "plt.title('Logaritmo natural de Precio y puntuación de vinos')\n",
    "plt.ylabel('ln(Precio, $)')\n",
    "plt.xlabel('Puntuación')\n",
    "plt.show()"
   ]
  },
  {
   "cell_type": "code",
   "execution_count": null,
   "metadata": {},
   "outputs": [],
   "source": [
    "def reg_1D(Y, X):\n",
    "    # Coeficientes de regresión de mínimo MSE (error cuadrático medio) con una variable independiente\n",
    "    beta_1 = ((X-X.mean()) * (Y-Y.mean())).sum() / ((X -X.mean())**2).sum()\n",
    "    beta_0 = Y.mean() - beta_1 * X.mean()\n",
    "    \n",
    "    return(beta_0, beta_1)"
   ]
  },
  {
   "cell_type": "code",
   "execution_count": null,
   "metadata": {},
   "outputs": [],
   "source": [
    "b0, b1 = reg_1D(puntuacion['price_log'], puntuacion['points'])"
   ]
  },
  {
   "cell_type": "code",
   "execution_count": null,
   "metadata": {},
   "outputs": [],
   "source": [
    "puntuacion.plot(kind='scatter', x='points', y='price_log', alpha=0.05)\n",
    "plt.plot( [80,100], [b0+b1*80, b0+b1*100], color='red')\n",
    "# Alternativamente podríamos haber usado \n",
    "#   > puntuacion.plot.scatter(x='points', y='price', alpha=0.2)\n",
    "\n",
    "\n",
    "plt.title('Precio y puntuación de vinos')\n",
    "plt.ylabel('Precio ($)')\n",
    "plt.xlabel('Puntuación')\n",
    "plt.show()"
   ]
  },
  {
   "cell_type": "markdown",
   "metadata": {},
   "source": [
    "Habría que analizar los residuos, $\\hat{\\epsilon}_i=(y_i-\\hat{y_i})$, que son las estimaciones de los errores de regresión. Estos deben cumplir las hipótesis de normalidad, varianza constante, aleatoriedad e independencia...  Esto lo estareís o lo veréis con Norberto."
   ]
  },
  {
   "cell_type": "markdown",
   "metadata": {},
   "source": [
    "[Más documentación pandas plot](https://pandas.pydata.org/pandas-docs/stable/reference/api/pandas.DataFrame.plot.html)"
   ]
  },
  {
   "cell_type": "markdown",
   "metadata": {},
   "source": [
    "---\n",
    "\n",
    "## Crear GIFs animados\n"
   ]
  },
  {
   "cell_type": "markdown",
   "metadata": {},
   "source": [
    "¡Visualizaremos una onda!"
   ]
  },
  {
   "cell_type": "markdown",
   "metadata": {},
   "source": [
    "Creación de datos... \n",
    "\n",
    "                           ... que vienen a ser las imagenes que uniremos"
   ]
  },
  {
   "cell_type": "code",
   "execution_count": null,
   "metadata": {},
   "outputs": [],
   "source": [
    "from pathlib import Path # Una buena librería para trabajar con direcciones\n",
    "import math\n",
    "\n",
    "\n",
    "def seno(x, t, fase_rad=0, longitud_onda=1.0):\n",
    "    '''\n",
    "    Función para valores de onda en instante *t*, para fase *fase_rad* en radianes y longitud de onda *longitud_onda* en metros\n",
    "    '''\n",
    "    return(np.sin( 1*t - 2*(math.pi/longitud_onda)*x + fase_rad))\n",
    "\n",
    "\n",
    "def crear_imagenes_onda(path, xmin=0, xmax=1, n_puntos=50, n_instantes=25, longitud_onda=1, **kwargs):\n",
    "    '''\n",
    "    Función para crear los valores de una onda senosoidal en el espacio dados:\n",
    "     \n",
    "     *x* será un numpy array con los valores discretos del espacio en metros, con rango de\n",
    "       *xmin* valor mínimo\n",
    "       *xmax* valor máximo\n",
    "       *n_puntos* cantidad de puntos\n",
    "     *longitud_onda* longitud de onda (m) y tiempo (u.)\n",
    "\n",
    "    ''' \n",
    "    \n",
    "    # > Creamos el vector de tiempo\n",
    "    x = np.linspace(xmin, xmax, n_puntos,  endpoint=True) # endpoint incluye el último punto\n",
    "    \n",
    "    # > Usamos 'enumerate' para obtener índice, instante\n",
    "    for ii, t in enumerate(np.linspace(0, 2*math.pi, n_instantes)):\n",
    "        \n",
    "        # > Mostramos la onda para cada instante\n",
    "        plt.plot(x, seno(x, t, longitud_onda=longitud_onda), **kwargs)\n",
    "        # > Título\n",
    "        plt.title(fr'Onda  ($\\lambda =$ {longitud_onda} m)')\n",
    "        plt.xlabel('Espacio (m)')\n",
    "        plt.ylim(-1,1)\n",
    "        plt.savefig(path/ f'imagen_{ii}.png')\n",
    "        plt.close()\n",
    "    \n",
    "    print('Creadas las imagenes\\n')"
   ]
  },
  {
   "cell_type": "markdown",
   "metadata": {},
   "source": [
    "Creación de GIF.. \n",
    "\n",
    "                           ... para unir las imagenes"
   ]
  },
  {
   "cell_type": "code",
   "execution_count": null,
   "metadata": {},
   "outputs": [],
   "source": [
    "import imageio\n",
    "from pathlib import Path\n",
    "def imgs2gif(path_gif_input, duration = 0.5):\n",
    "    \n",
    "    '''\n",
    "    Función para crear gifs a partir de imagenes 'png' detro de un directorio\n",
    "    \n",
    "    *path_gif_input*               tipo 'pathlib.Path()' con directorio donde se encuentran las imagenes\n",
    "    *param duration* (opcional)    con la duración, en segundos, de cada imagen.\n",
    "    \n",
    "    '''\n",
    "    \n",
    "    # Creamos instancia de clase Path\n",
    "    path_gif_in =  path_gif_input\n",
    "    \n",
    "    # Creamos un diccionario para almacenar todas las imagenes de extensión 'png'\n",
    "    # en la capeta especificada.\n",
    "    files_dict = {}\n",
    "    for ff in path_gif_in.iterdir(): # Iteramos sobre todos los elementos en el directorio *path_gif_in*\n",
    "        if ff.is_file(): # Comprobamos que es un archivo\n",
    "            if ff.suffix == \".png\": # Comprobamos que tiene extension 'png'\n",
    "                if 'imagen' in ff.stem: # Comprobamos que su nombre contiene 'imagen' \n",
    "                    files_dict[int(ff.stem.split(\"_\")[1])] = ff\n",
    "                \n",
    "    # Creamos una lista con instancias de imagenes ordenadas por la llave del diccionario creado previamente\n",
    "    images = [imageio.imread(files_dict[key]) for key in sorted(files_dict.keys())]\n",
    "    \n",
    "    # Guardar en gif con *duracion* segundos\n",
    "    # Notése que el valor de la duración de cada imagen es el que nos dará la frecuencia de la onda...\n",
    "    imageio.mimsave(path_gif_in/'animacion.gif', images, **{'duration': duration})\n",
    "    \n",
    "    print('Creada la animación GIF\\n')"
   ]
  },
  {
   "cell_type": "markdown",
   "metadata": {},
   "source": [
    "Código principal..."
   ]
  },
  {
   "cell_type": "code",
   "execution_count": null,
   "metadata": {},
   "outputs": [],
   "source": [
    "# Creamos un objeto Path haciendo referencia a la carpera IMG dentro de la carpeta donde está este notebook\n",
    "directorio = (Path.cwd() / 'IMG')\n",
    "\n",
    "# Si no existe la creamos, pero si existe ignoramos errores\n",
    "directorio.mkdir(exist_ok=True)\n",
    "\n",
    "# Creamos las imagenes mediante nuestra función *crear_onda*\n",
    "crear_imagenes_onda(path = directorio, n_puntos=50, n_instantes=25, longitud_onda=0.5, color='red')\n",
    "\n",
    "# Crear GIF\n",
    "imgs2gif(Path.cwd() / 'IMG', duration = 1/25)"
   ]
  },
  {
   "cell_type": "markdown",
   "metadata": {},
   "source": [
    "**¿Cómo recrearías el punto de este GIF de Wikipedia?**\n",
    "\n",
    "<img src=\"https://upload.wikimedia.org/wikipedia/commons/7/74/Simple_harmonic_motion_animation.gif\" width=\"200\" align=\"left\">\n"
   ]
  },
  {
   "cell_type": "markdown",
   "metadata": {},
   "source": [
    "El punto es un plt.scatter() con posición diferente en cada instante..."
   ]
  },
  {
   "cell_type": "markdown",
   "metadata": {},
   "source": [
    "---\n",
    "## Graficos interactivos con IPython\n",
    "\n",
    "- Utilizamos *widget* e [*interact*](https://ipywidgets.readthedocs.io/en/stable/examples/Using%20Interact.html) de la librería IPython\n",
    "\n",
    "\n"
   ]
  },
  {
   "cell_type": "code",
   "execution_count": null,
   "metadata": {},
   "outputs": [],
   "source": [
    "from __future__ import print_function\n",
    "from ipywidgets import interact, interactive, fixed, interact_manual\n",
    "import ipywidgets as widgets"
   ]
  },
  {
   "cell_type": "code",
   "execution_count": null,
   "metadata": {
    "scrolled": false
   },
   "outputs": [],
   "source": [
    "@interact_manual\n",
    "def plot(index=3, colores_diferentes=True, titulo=fixed('Multiples gráficos')):\n",
    "    '''\n",
    "    Función para ejemplo de interact de IPython\n",
    "    \n",
    "    las variables opcionales introducidas se vuelven variables automáticamente, \n",
    "    con un controlador dependiendo del tipo de variable (str, int, float)\n",
    "    \n",
    "    '''\n",
    "    \n",
    "    \n",
    "    # > Creamos los puntos del eje de abscisa\n",
    "    X=np.linspace(-10,10,1000)\n",
    "\n",
    "    # > Creación de datos para el eje de ordenada (9 listas, una para cada subplot, y cada una de 100 elementos como X)\n",
    "\n",
    "    # >> Usamos diccionarios\n",
    "    data_dict = {}\n",
    "\n",
    "    # >> Creamos los puntos del eje de ordenadas mediante ecuaciones del coseno.\n",
    "    #     Para esto hacemos dos bucles anidados, de tres cada uno para obtener 9 valores.\n",
    "    for ii in range(3):\n",
    "        for jj in range(3):\n",
    "\n",
    "            data_dict[ii, jj] = {'data':  X*np.cos((ii-jj+index)*X)*np.cos((ii+jj+index)*X), # Añadimos datos,  \n",
    "                                 'text': fr'$x\\cdot\\cos({ii-jj+index}x)\\cdot\\cos({ii+jj+index}x)$' } \n",
    "                                           # ecuación en formato text usando notación de LaTeX\n",
    "                                           # (usamos f para formato y r para formato LaTeX)\n",
    "\n",
    "\n",
    "    # Creamos la figura y los ejes\n",
    "    fig, ax = plt.subplots(3,3, figsize=(15,5), sharex = True, sharey=True, gridspec_kw={'hspace':0.4, 'wspace':0.2})\n",
    "\n",
    "    # Ploteamos cada par X, data_dict[ii, jj]['data']\n",
    "    # Antes fijamos la semilla\n",
    "    np.random.seed(1) # ¿Qué pasa si no la fijamos?\n",
    "    for ii in range(3):\n",
    "        for jj in range(3):\n",
    "            color = 'grey' # Color por defecto\n",
    "            if colores_diferentes: color = np.random.random_sample(3) # Color aleatorio si *colores_diferetes* es True\n",
    "            \n",
    "            # Plotramos sobre el eje ii, jj\n",
    "            ax[ii, jj].plot(X,data_dict[ii,jj]['data'], label = data_dict[ii,jj]['text'], color = color )\n",
    "            # Introducimos título\n",
    "            ax[ii, jj].set_title(data_dict[ii, jj]['text'])\n",
    "            # Añadimos leyenda en el subplot\n",
    "            ax[ii, jj].legend(loc='lower center', fontsize=8, framealpha=0)\n",
    "\n",
    "    plt.suptitle(titulo, fontsize=15)\n",
    "    plt.show()"
   ]
  },
  {
   "cell_type": "markdown",
   "metadata": {},
   "source": [
    "## Referencias\n",
    " - Iker y Mikel (UPV/EHU) lasaiker@fastmail.com, mikelbarrene@gmail.com"
   ]
  }
 ],
 "metadata": {
  "kernelspec": {
   "display_name": "Python 3",
   "language": "python",
   "name": "python3"
  },
  "language_info": {
   "codemirror_mode": {
    "name": "ipython",
    "version": 3
   },
   "file_extension": ".py",
   "mimetype": "text/x-python",
   "name": "python",
   "nbconvert_exporter": "python",
   "pygments_lexer": "ipython3",
   "version": "3.8.5"
  }
 },
 "nbformat": 4,
 "nbformat_minor": 2
}
